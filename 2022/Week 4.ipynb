{
  "cells": [
    {
      "cell_type": "markdown",
      "source": [
        "[![Open In Colab](https://colab.research.google.com/assets/colab-badge.svg)](https://colab.research.google.com/github/tuankhoin/COMP30027-Practical-Solutions/blob/main/Week%204.ipynb)"
      ],
      "metadata": {
        "id": "asfnKS6nwuu-"
      }
    },
    {
      "cell_type": "code",
      "source": [
        "from google.colab import drive \n",
        "drive.mount('/content/gdrive')\n",
        "path = \"gdrive/My Drive/COMP30027 (T)/W4/\""
      ],
      "metadata": {
        "colab": {
          "base_uri": "https://localhost:8080/"
        },
        "id": "xXZ1LF8hQ4Bg",
        "outputId": "67148415-6d9b-4639-ca06-8be2925fee27"
      },
      "execution_count": null,
      "outputs": [
        {
          "output_type": "stream",
          "name": "stdout",
          "text": [
            "Mounted at /content/gdrive\n"
          ]
        }
      ]
    },
    {
      "cell_type": "markdown",
      "metadata": {
        "id": "O2xdjvjKNnXo"
      },
      "source": [
        "#### The University of Melbourne, School of Computing and Information Systems\n",
        "# COMP30027 Machine Learning, 2022 \n",
        "\n",
        "## Week 4 - `sklearn` goes brr"
      ]
    },
    {
      "cell_type": "markdown",
      "metadata": {
        "id": "u51Ejz_ONnXx"
      },
      "source": [
        "This week, we will be using scikit-learn to classify some data, and to evaluate some classifiers.\n",
        "\n",
        "1. What kind of data to put?\n",
        "2. Data conversion\n",
        "3. Running the model\n",
        "4. Data transformation"
      ]
    },
    {
      "cell_type": "code",
      "execution_count": null,
      "metadata": {
        "id": "Zt7q0c-rNnXz"
      },
      "outputs": [],
      "source": [
        "import numpy as np\n",
        "from sklearn import datasets\n",
        "from collections import Counter\n",
        "import matplotlib.pyplot as plt"
      ]
    },
    {
      "cell_type": "markdown",
      "metadata": {
        "id": "2dpLB6yoNnX2"
      },
      "source": [
        "### Exercise 1.\n",
        "Please load Car Evaluation dataset from the UCI Machine Learning Repository (https://archive.ics.uci.edu/ml/machine-learning-databases/car/car.data).\n",
        "\n",
        "The common terminology in scikit-learn is that: \n",
        "* `X`: the array defining the attribute values\n",
        "* `y`: the array defining the gold–standard (“ground truth”) \n",
        "\n",
        "Your task: create these variables for the car data.\n",
        "\n",
        "- **(a)** Load the data into a suitable format for scikit-learn:\n"
      ]
    },
    {
      "cell_type": "markdown",
      "source": [
        "Old school solution"
      ],
      "metadata": {
        "id": "Bvstyw1GTq-W"
      }
    },
    {
      "cell_type": "code",
      "execution_count": null,
      "metadata": {
        "id": "nAADj5z5NnX3"
      },
      "outputs": [],
      "source": [
        "X = []\n",
        "y = []\n",
        "with open(path+'car.data', mode='r') as fin:\n",
        "    for line in fin:\n",
        "        atts = line.strip().split(\",\")\n",
        "        X.append(atts[:-1]) #all atts, excluding the class\n",
        "        y.append(atts[-1])"
      ]
    },
    {
      "cell_type": "markdown",
      "source": [
        "High school solution"
      ],
      "metadata": {
        "id": "uB_z5tU1TvXq"
      }
    },
    {
      "cell_type": "code",
      "source": [
        "import pandas as pd\n",
        "df = pd.read_csv(path+\"car.data\", header=None)\n",
        "\n",
        "X_pd = df.iloc[:,:-1]\n",
        "y_pd = df.iloc[:,-1]\n",
        "\n",
        "df.sample(5)"
      ],
      "metadata": {
        "colab": {
          "base_uri": "https://localhost:8080/",
          "height": 206
        },
        "id": "q3VIB-lJQLpz",
        "outputId": "db1a5026-f5ca-4c05-9593-8e19763795f9"
      },
      "execution_count": null,
      "outputs": [
        {
          "output_type": "execute_result",
          "data": {
            "text/plain": [
              "          0      1  2     3      4     5      6\n",
              "934     med  vhigh  4     4    big   med    acc\n",
              "1639    low    low  2  more  small   med  unacc\n",
              "461    high  vhigh  3     2  small  high  unacc\n",
              "183   vhigh   high  4  more    med   low  unacc\n",
              "151   vhigh   high  3     4    big   med  unacc"
            ],
            "text/html": [
              "\n",
              "  <div id=\"df-92cb5af3-dc48-4d08-b0ef-ad6e2199a27b\">\n",
              "    <div class=\"colab-df-container\">\n",
              "      <div>\n",
              "<style scoped>\n",
              "    .dataframe tbody tr th:only-of-type {\n",
              "        vertical-align: middle;\n",
              "    }\n",
              "\n",
              "    .dataframe tbody tr th {\n",
              "        vertical-align: top;\n",
              "    }\n",
              "\n",
              "    .dataframe thead th {\n",
              "        text-align: right;\n",
              "    }\n",
              "</style>\n",
              "<table border=\"1\" class=\"dataframe\">\n",
              "  <thead>\n",
              "    <tr style=\"text-align: right;\">\n",
              "      <th></th>\n",
              "      <th>0</th>\n",
              "      <th>1</th>\n",
              "      <th>2</th>\n",
              "      <th>3</th>\n",
              "      <th>4</th>\n",
              "      <th>5</th>\n",
              "      <th>6</th>\n",
              "    </tr>\n",
              "  </thead>\n",
              "  <tbody>\n",
              "    <tr>\n",
              "      <th>934</th>\n",
              "      <td>med</td>\n",
              "      <td>vhigh</td>\n",
              "      <td>4</td>\n",
              "      <td>4</td>\n",
              "      <td>big</td>\n",
              "      <td>med</td>\n",
              "      <td>acc</td>\n",
              "    </tr>\n",
              "    <tr>\n",
              "      <th>1639</th>\n",
              "      <td>low</td>\n",
              "      <td>low</td>\n",
              "      <td>2</td>\n",
              "      <td>more</td>\n",
              "      <td>small</td>\n",
              "      <td>med</td>\n",
              "      <td>unacc</td>\n",
              "    </tr>\n",
              "    <tr>\n",
              "      <th>461</th>\n",
              "      <td>high</td>\n",
              "      <td>vhigh</td>\n",
              "      <td>3</td>\n",
              "      <td>2</td>\n",
              "      <td>small</td>\n",
              "      <td>high</td>\n",
              "      <td>unacc</td>\n",
              "    </tr>\n",
              "    <tr>\n",
              "      <th>183</th>\n",
              "      <td>vhigh</td>\n",
              "      <td>high</td>\n",
              "      <td>4</td>\n",
              "      <td>more</td>\n",
              "      <td>med</td>\n",
              "      <td>low</td>\n",
              "      <td>unacc</td>\n",
              "    </tr>\n",
              "    <tr>\n",
              "      <th>151</th>\n",
              "      <td>vhigh</td>\n",
              "      <td>high</td>\n",
              "      <td>3</td>\n",
              "      <td>4</td>\n",
              "      <td>big</td>\n",
              "      <td>med</td>\n",
              "      <td>unacc</td>\n",
              "    </tr>\n",
              "  </tbody>\n",
              "</table>\n",
              "</div>\n",
              "      <button class=\"colab-df-convert\" onclick=\"convertToInteractive('df-92cb5af3-dc48-4d08-b0ef-ad6e2199a27b')\"\n",
              "              title=\"Convert this dataframe to an interactive table.\"\n",
              "              style=\"display:none;\">\n",
              "        \n",
              "  <svg xmlns=\"http://www.w3.org/2000/svg\" height=\"24px\"viewBox=\"0 0 24 24\"\n",
              "       width=\"24px\">\n",
              "    <path d=\"M0 0h24v24H0V0z\" fill=\"none\"/>\n",
              "    <path d=\"M18.56 5.44l.94 2.06.94-2.06 2.06-.94-2.06-.94-.94-2.06-.94 2.06-2.06.94zm-11 1L8.5 8.5l.94-2.06 2.06-.94-2.06-.94L8.5 2.5l-.94 2.06-2.06.94zm10 10l.94 2.06.94-2.06 2.06-.94-2.06-.94-.94-2.06-.94 2.06-2.06.94z\"/><path d=\"M17.41 7.96l-1.37-1.37c-.4-.4-.92-.59-1.43-.59-.52 0-1.04.2-1.43.59L10.3 9.45l-7.72 7.72c-.78.78-.78 2.05 0 2.83L4 21.41c.39.39.9.59 1.41.59.51 0 1.02-.2 1.41-.59l7.78-7.78 2.81-2.81c.8-.78.8-2.07 0-2.86zM5.41 20L4 18.59l7.72-7.72 1.47 1.35L5.41 20z\"/>\n",
              "  </svg>\n",
              "      </button>\n",
              "      \n",
              "  <style>\n",
              "    .colab-df-container {\n",
              "      display:flex;\n",
              "      flex-wrap:wrap;\n",
              "      gap: 12px;\n",
              "    }\n",
              "\n",
              "    .colab-df-convert {\n",
              "      background-color: #E8F0FE;\n",
              "      border: none;\n",
              "      border-radius: 50%;\n",
              "      cursor: pointer;\n",
              "      display: none;\n",
              "      fill: #1967D2;\n",
              "      height: 32px;\n",
              "      padding: 0 0 0 0;\n",
              "      width: 32px;\n",
              "    }\n",
              "\n",
              "    .colab-df-convert:hover {\n",
              "      background-color: #E2EBFA;\n",
              "      box-shadow: 0px 1px 2px rgba(60, 64, 67, 0.3), 0px 1px 3px 1px rgba(60, 64, 67, 0.15);\n",
              "      fill: #174EA6;\n",
              "    }\n",
              "\n",
              "    [theme=dark] .colab-df-convert {\n",
              "      background-color: #3B4455;\n",
              "      fill: #D2E3FC;\n",
              "    }\n",
              "\n",
              "    [theme=dark] .colab-df-convert:hover {\n",
              "      background-color: #434B5C;\n",
              "      box-shadow: 0px 1px 3px 1px rgba(0, 0, 0, 0.15);\n",
              "      filter: drop-shadow(0px 1px 2px rgba(0, 0, 0, 0.3));\n",
              "      fill: #FFFFFF;\n",
              "    }\n",
              "  </style>\n",
              "\n",
              "      <script>\n",
              "        const buttonEl =\n",
              "          document.querySelector('#df-92cb5af3-dc48-4d08-b0ef-ad6e2199a27b button.colab-df-convert');\n",
              "        buttonEl.style.display =\n",
              "          google.colab.kernel.accessAllowed ? 'block' : 'none';\n",
              "\n",
              "        async function convertToInteractive(key) {\n",
              "          const element = document.querySelector('#df-92cb5af3-dc48-4d08-b0ef-ad6e2199a27b');\n",
              "          const dataTable =\n",
              "            await google.colab.kernel.invokeFunction('convertToInteractive',\n",
              "                                                     [key], {});\n",
              "          if (!dataTable) return;\n",
              "\n",
              "          const docLinkHtml = 'Like what you see? Visit the ' +\n",
              "            '<a target=\"_blank\" href=https://colab.research.google.com/notebooks/data_table.ipynb>data table notebook</a>'\n",
              "            + ' to learn more about interactive tables.';\n",
              "          element.innerHTML = '';\n",
              "          dataTable['output_type'] = 'display_data';\n",
              "          await google.colab.output.renderOutput(dataTable, element);\n",
              "          const docLink = document.createElement('div');\n",
              "          docLink.innerHTML = docLinkHtml;\n",
              "          element.appendChild(docLink);\n",
              "        }\n",
              "      </script>\n",
              "    </div>\n",
              "  </div>\n",
              "  "
            ]
          },
          "metadata": {},
          "execution_count": 22
        }
      ]
    },
    {
      "cell_type": "markdown",
      "source": [
        "University solution"
      ],
      "metadata": {
        "id": "kJI0oyeTe4B0"
      }
    },
    {
      "cell_type": "code",
      "source": [
        "data_np = np.genfromtxt(path+\"car.data\", encoding=None, dtype=None, delimiter=\",\")\n",
        "\n",
        "X_np = data_np[:,:-1]\n",
        "y_np = data_np[:,-1]\n",
        "\n",
        "data_np"
      ],
      "metadata": {
        "colab": {
          "base_uri": "https://localhost:8080/"
        },
        "id": "wPdfQO6mQMKc",
        "outputId": "ce143cc9-9347-4c3c-d8f6-e1c4c3935884"
      },
      "execution_count": null,
      "outputs": [
        {
          "output_type": "execute_result",
          "data": {
            "text/plain": [
              "array([['vhigh', 'vhigh', '2', ..., 'small', 'low', 'unacc'],\n",
              "       ['vhigh', 'vhigh', '2', ..., 'small', 'med', 'unacc'],\n",
              "       ['vhigh', 'vhigh', '2', ..., 'small', 'high', 'unacc'],\n",
              "       ...,\n",
              "       ['low', 'low', '5more', ..., 'big', 'low', 'unacc'],\n",
              "       ['low', 'low', '5more', ..., 'big', 'med', 'good'],\n",
              "       ['low', 'low', '5more', ..., 'big', 'high', 'vgood']], dtype='<U5')"
            ]
          },
          "metadata": {},
          "execution_count": 21
        }
      ]
    },
    {
      "cell_type": "markdown",
      "source": [
        "*'This material is made available to you by or on behalf of the University of Melbourne, under section 113P of the Copyright Act, 1968. It may be subject to copyright. For more information, visit the university copyright website.'* solution"
      ],
      "metadata": {
        "id": "rsb6e5wzfkgQ"
      }
    },
    {
      "cell_type": "code",
      "source": [
        "# Define the mAgiC nUMbERs\n",
        "fname = 'car.data'\n",
        "last_index = -1\n",
        "m = 'r'\n",
        "\n",
        "# Initiate variables\n",
        "X = []\n",
        "y = []\n",
        "\n",
        "# Open the file\n",
        "with open(path + fname, mode=m) as fin:\n",
        "    # Do a loop to reach each row of data\n",
        "    for line in fin:\n",
        "      # Strip trailing spaces\n",
        "      stripped = line.strip()\n",
        "      # Split into an array of values that are separated by coma\n",
        "      atts = stripped.split(\",\")\n",
        "      # Because last column is class, remove it from instances variable\n",
        "      X.append(atts[:,:last_index])\n",
        "      # Last column is the class, or as known as ground-truth, labels, golden standard,...\n",
        "      y.append(atts[:,last_index])"
      ],
      "metadata": {
        "id": "QY-w9hpGfiWm"
      },
      "execution_count": null,
      "outputs": []
    },
    {
      "cell_type": "markdown",
      "metadata": {
        "id": "mmOZSEHJNnX5"
      },
      "source": [
        "- **(b)** How many instances are there in this collection? How many attributes, and of what type(s)? What is the class we’re trying to predict, and how many values does it take?"
      ]
    },
    {
      "cell_type": "code",
      "execution_count": null,
      "metadata": {
        "id": "rqQ3Ego2NnX6",
        "outputId": "ac5460dc-594c-4231-cece-dfdb211c927f"
      },
      "outputs": [
        {
          "name": "stdout",
          "output_type": "stream",
          "text": [
            "There are 1728 instances\n",
            "There are 6 attributes, for example: ['vhigh', 'vhigh', '2', '2', 'small', 'low']\n",
            "There are 4 class labels: {'vgood', 'unacc', 'acc', 'good'}\n",
            "Label frequencies: [('unacc', 1210), ('acc', 384), ('good', 69), ('vgood', 65)]\n"
          ]
        }
      ],
      "source": [
        "from collections import Counter\n",
        "print('There are', len(X), 'instances')\n",
        "print('There are', len(X[0]), \"attributes, for example:\", X[0])\n",
        "print('There are', len(set(y)), \"class labels:\", set(y))   \n",
        "#use Counter to count the number of labels\n",
        "label_counter = Counter(y)\n",
        "print(\"Label frequencies: %s\" %str(label_counter.most_common()))"
      ]
    },
    {
      "cell_type": "code",
      "source": [
        "# How about pandas dataframe?\n",
        "print('There are', len(X_pd), 'instances')\n",
        "\n",
        "print('There are', len(X_pd.columns), \"attributes, for example:\", X_pd.sample(1).values)\n",
        "\n",
        "print('There are', len(y_pd.unique()), \"class labels:\", y_pd.unique())   \n",
        "\n",
        "print(f\"Label frequencies:\\n{y_pd.value_counts()}\")"
      ],
      "metadata": {
        "colab": {
          "base_uri": "https://localhost:8080/"
        },
        "id": "ofbQ5DPvlWi3",
        "outputId": "06646462-dfdf-41af-f84d-f502778fe585"
      },
      "execution_count": null,
      "outputs": [
        {
          "output_type": "stream",
          "name": "stdout",
          "text": [
            "There are 1728 instances\n",
            "There are 6 attributes, for example: [['vhigh' 'vhigh' '2' '2' 'big' 'med']]\n",
            "There are 4 class labels: ['unacc' 'acc' 'vgood' 'good']\n",
            "Label frequencies:\n",
            "unacc    1210\n",
            "acc       384\n",
            "good       69\n",
            "vgood      65\n",
            "Name: 6, dtype: int64\n"
          ]
        }
      ]
    },
    {
      "cell_type": "markdown",
      "metadata": {
        "id": "5wSHAarhNnX9"
      },
      "source": [
        "### Exercise 2\n",
        "Unfortunately, scikit-learn isn’t set up to deal with our attributes in this format.\n",
        "\n",
        "- **(a)** Write some functions that transform our **categorical** attributes into **numerical** attributes, by (perhaps arbitrarily) assigning each categorical value to an integer, for example:\n",
        "\n",
        "```python\n",
        "def convert_class(raw):\n",
        "    if raw==\"unacc\": return 0\n",
        "    elif raw==\"acc\": return 1\n",
        "    elif raw==\"good\": return 2\n",
        "    elif raw==\"vgood\": return 3\n",
        "```\n"
      ]
    },
    {
      "cell_type": "code",
      "execution_count": null,
      "metadata": {
        "colab": {
          "base_uri": "https://localhost:8080/"
        },
        "id": "xHmMpy0nNnYC",
        "outputId": "6c635eec-695b-4ca2-d1f0-8edb39684cc4"
      },
      "outputs": [
        {
          "output_type": "stream",
          "name": "stdout",
          "text": [
            "feature 1: {'high', 'vhigh', 'med', 'low'}\n",
            "feature 2: {'high', 'vhigh', 'med', 'low'}\n",
            "feature 3: {'5more', '2', '4', '3'}\n",
            "feature 4: {'2', '4', 'more'}\n",
            "feature 5: {'big', 'med', 'small'}\n",
            "feature 6: {'high', 'low', 'med'}\n"
          ]
        }
      ],
      "source": [
        "# We could check this from the \"car.names\" file linked above\n",
        "# Here's one (somewhat inefficient) way of reading this from the data itself\n",
        "feature_1_values = set([X[i][0] for i in range(len(X))])\n",
        "feature_2_values = set([X[i][1] for i in range(len(X))])\n",
        "feature_3_values = set([X[i][2] for i in range(len(X))])\n",
        "feature_4_values = set([X[i][3] for i in range(len(X))])\n",
        "feature_5_values = set([X[i][4] for i in range(len(X))])\n",
        "feature_6_values = set([X[i][5] for i in range(len(X))])\n",
        "print(\"feature 1: %s\" %str(feature_1_values))\n",
        "print(\"feature 2: %s\" %str(feature_2_values))\n",
        "print(\"feature 3: %s\" %str(feature_3_values))\n",
        "print(\"feature 4: %s\" %str(feature_4_values))\n",
        "print(\"feature 5: %s\" %str(feature_5_values))\n",
        "print(\"feature 6: %s\" %str(feature_6_values))\n",
        "\n",
        "                                          # This cell was made by np.array gang"
      ]
    },
    {
      "cell_type": "code",
      "execution_count": null,
      "metadata": {
        "colab": {
          "base_uri": "https://localhost:8080/"
        },
        "id": "myYkGN4kNnYF",
        "outputId": "216078df-f87e-4b6b-cdac-bddf7481fd22"
      },
      "outputs": [
        {
          "output_type": "stream",
          "name": "stdout",
          "text": [
            "X shape: (1728, 6), y shape: (1728,)\n"
          ]
        }
      ],
      "source": [
        "import numpy as np\n",
        "\n",
        "# Too many if and elif can be a pain you know\n",
        "convert_feature_1and2and6 = lambda raw : {k:v for v,k in enumerate(feature_1_values)}[raw]\n",
        "convert_feature_3 = lambda raw : {k:v for v,k in enumerate(feature_3_values)}[raw]\n",
        "convert_feature_4 = lambda raw : {k:v for v,k in enumerate(feature_4_values)}[raw]\n",
        "convert_feature_5 = lambda raw : {k:v for v,k in enumerate(feature_5_values)}[raw]\n",
        "convert_class = lambda raw : {k:v for v,k in enumerate(set(y))}[raw]\n",
        "\n",
        "X_ordinal = []\n",
        "for x in X:\n",
        "    f1, f2, f3, f4, f5, f6 = x\n",
        "    f1 = convert_feature_1and2and6(f1)\n",
        "    f2 = convert_feature_1and2and6(f2)\n",
        "    f3 = convert_feature_3(f3)\n",
        "    f4 = convert_feature_4(f4)\n",
        "    f5 = convert_feature_5(f5)\n",
        "    f6 = convert_feature_1and2and6(f6)\n",
        "    x = [f1, f2, f3, f4, f5, f6]\n",
        "    X_ordinal.append(x)\n",
        "    \n",
        "#convert to int array to make sure everything is converted.\n",
        "X_ordinal = np.array(X_ordinal, dtype='int')\n",
        "\n",
        "\n",
        "#convert ys\n",
        "y_numeric = []\n",
        "for this_y in y:\n",
        "    this_y = convert_class(this_y)\n",
        "    y_numeric.append(this_y)\n",
        "\n",
        "y_num = np.array(y_numeric, dtype='int')\n",
        "\n",
        "\n",
        "print('X shape: {}, y shape: {}'.format(X_ordinal.shape, y_num.shape))"
      ]
    },
    {
      "cell_type": "markdown",
      "metadata": {
        "id": "mpyInYz-NnYI"
      },
      "source": [
        "- **(b)** Split the data into training (80%) and test sets (20%)"
      ]
    },
    {
      "cell_type": "code",
      "source": [
        "# How to quick check version\n",
        "import sklearn\n",
        "sklearn.__version__"
      ],
      "metadata": {
        "colab": {
          "base_uri": "https://localhost:8080/",
          "height": 35
        },
        "id": "MRu0kG9ywnXR",
        "outputId": "9217f2da-9777-4861-9daf-594bd336def5"
      },
      "execution_count": null,
      "outputs": [
        {
          "output_type": "execute_result",
          "data": {
            "text/plain": [
              "'1.0.2'"
            ],
            "application/vnd.google.colaboratory.intrinsic+json": {
              "type": "string"
            }
          },
          "metadata": {},
          "execution_count": 45
        }
      ]
    },
    {
      "cell_type": "code",
      "execution_count": null,
      "metadata": {
        "colab": {
          "base_uri": "https://localhost:8080/"
        },
        "id": "aHVfYTEkNnYJ",
        "outputId": "57ecfd0e-43ce-4513-bed1-dfe800631145"
      },
      "outputs": [
        {
          "output_type": "stream",
          "name": "stdout",
          "text": [
            "X_train: (1157, 6) X_test: (571, 6)\n"
          ]
        }
      ],
      "source": [
        "from sklearn.model_selection import train_test_split # Newer versions\n",
        "#from sklearn.cross_validation import train_test_split # Older versions\n",
        "\n",
        "X_train, X_test, y_train, y_test = train_test_split(X_ordinal, y_num, test_size=0.33)\n",
        "print('X_train: {} X_test: {}'.format(X_train.shape, X_test.shape))"
      ]
    },
    {
      "cell_type": "markdown",
      "source": [
        "### Tips: `sklearn` has the following functions for most models:\n",
        "* `fit()`\n",
        "* `predict()` / `predict_proba()`\n",
        "* `score()`\n",
        "* `transform()` / `fit_transform()`"
      ],
      "metadata": {
        "id": "FvDvsx_gSQi1"
      }
    },
    {
      "cell_type": "markdown",
      "metadata": {
        "id": "a3RFOEpZNnYK"
      },
      "source": [
        "### Exercise 3.\n",
        "Read up on different implementations of the Naive Bayes classifier in `sklearn.naive_bayes`. Which one do you think is most suitable for the dataset we have?"
      ]
    },
    {
      "cell_type": "markdown",
      "metadata": {
        "id": "FQ2BvqVqNnYL"
      },
      "source": [
        "- **(a)** Compare the accuracies of all three different kinds of Naive Bayes classifier. Does this accord with your expectations?"
      ]
    },
    {
      "cell_type": "code",
      "execution_count": null,
      "metadata": {
        "colab": {
          "base_uri": "https://localhost:8080/"
        },
        "id": "rzFgpr39NnYL",
        "outputId": "3d77f39f-9b00-4a44-ed17-1c30582c5d96"
      },
      "outputs": [
        {
          "output_type": "stream",
          "name": "stdout",
          "text": [
            "\n",
            "GNB score 0.656743 \n",
            "MNB score 0.726795 \n",
            "BNB score 0.761821 \n",
            "\n",
            "GNB score 0.693520 \n",
            "MNB score 0.735552 \n",
            "BNB score 0.767075 \n",
            "\n",
            "GNB score 0.677758 \n",
            "MNB score 0.733800 \n",
            "BNB score 0.742557 \n",
            "\n",
            "Avg GNB score: 0.6760070052539403\n",
            "Avg MNB score: 0.7320490367775833\n",
            "Avg BNB score: 0.7571511967308816\n"
          ]
        }
      ],
      "source": [
        "from sklearn.naive_bayes import GaussianNB, MultinomialNB, BernoulliNB\n",
        "\n",
        "gnb_accs = []\n",
        "mnb_accs = []\n",
        "bnb_accs = []\n",
        "gnb = GaussianNB()\n",
        "mnb = MultinomialNB()\n",
        "bnb = BernoulliNB()\n",
        "\n",
        "for i in range(3):\n",
        "    X_train, X_test, y_train, y_test = train_test_split(X_ordinal, y_num, test_size=0.33, random_state=i)\n",
        "    gnb.fit(X_train, y_train)\n",
        "    acc = gnb.score(X_test, y_test)\n",
        "    print(\"\\nGNB score %f \" %acc)\n",
        "    gnb_accs.append(acc)\n",
        "    \n",
        "    mnb.fit(X_train, y_train)\n",
        "    acc = mnb.score(X_test, y_test)\n",
        "    print(\"MNB score %f \" %acc)\n",
        "    mnb_accs.append(acc)\n",
        "    \n",
        "    bnb.fit(X_train, y_train)\n",
        "    acc = bnb.score(X_test, y_test)\n",
        "    print(\"BNB score %f \" %acc)\n",
        "    bnb_accs.append(acc)\n",
        "    \n",
        "print('\\nAvg GNB score: {}'.format(np.mean(gnb_accs)))\n",
        "print('Avg MNB score: {}'.format(np.mean(mnb_accs)))\n",
        "print('Avg BNB score: {}'.format(np.mean(bnb_accs)))\n",
        "\n",
        "    "
      ]
    },
    {
      "cell_type": "markdown",
      "metadata": {
        "id": "GvJZufplNnYM"
      },
      "source": [
        "*It's no real surprise that Multinomial NB doesn't work here; for example \"high\" (2), is not really \"medium\" (1) repeated twice.*\n",
        "\n",
        "*We might have expected that Gaussian NB would work a little bit better here, but the ordering appears to be less significant than the feature values themselves. A secondary concern might the uniform distribution of attribute values.*"
      ]
    },
    {
      "cell_type": "markdown",
      "metadata": {
        "id": "Hqp_O7o3NnYN"
      },
      "source": [
        "Remember Laplace Smoothing?\n",
        "$$\n",
        "p_i = \\frac{x_i + \\alpha}{N + \\alpha d}\n",
        "$$\n",
        "\n",
        "- **(b)** By default, this implementation of Naive Bayes uses Laplace smoothing. Turn this off, and see what happens — what is the significance of the reported accuracy?"
      ]
    },
    {
      "cell_type": "code",
      "execution_count": null,
      "metadata": {
        "id": "ABxH-nBhNnYN",
        "outputId": "cde54635-6046-4170-fac6-70f3ad0115c4"
      },
      "outputs": [
        {
          "name": "stdout",
          "output_type": "stream",
          "text": [
            "MNB score 0.718039 \n",
            "BNB score 0.779335 \n"
          ]
        },
        {
          "name": "stderr",
          "output_type": "stream",
          "text": [
            "/Users/hastisamadi/opt/anaconda3/lib/python3.8/site-packages/sklearn/naive_bayes.py:511: UserWarning: alpha too small will result in numeric errors, setting alpha = 1.0e-10\n",
            "  warnings.warn('alpha too small will result in numeric errors, '\n",
            "/Users/hastisamadi/opt/anaconda3/lib/python3.8/site-packages/sklearn/naive_bayes.py:511: UserWarning: alpha too small will result in numeric errors, setting alpha = 1.0e-10\n",
            "  warnings.warn('alpha too small will result in numeric errors, '\n"
          ]
        }
      ],
      "source": [
        "from sklearn.naive_bayes import MultinomialNB, BernoulliNB\n",
        "\n",
        "mnb_accs = []\n",
        "bnb_accs = []\n",
        "# Gaussian NB doesn't use smoothing; all of the probabilities for the Gaussian are already non-zero\n",
        "# You can try this for yourself, but scikit-learn will flatly refuse to do it\n",
        "mnb = MultinomialNB(alpha=0)\n",
        "bnb = BernoulliNB(alpha=0)\n",
        "mnb.fit(X_train, y_train)\n",
        "acc = mnb.score(X_test, y_test)\n",
        "print(\"MNB score %f \" %acc)\n",
        "    \n",
        "    \n",
        "bnb.fit(X_train, y_train)\n",
        "acc = bnb.score(X_test, y_test)\n",
        "print(\"BNB score %f \" %acc)"
      ]
    },
    {
      "cell_type": "markdown",
      "metadata": {
        "id": "PJh2aI97NnYO"
      },
      "source": [
        "*Due to the implementation (as log-probabilities), numerical errors would result from unseen events.*\n",
        "\n"
      ]
    },
    {
      "cell_type": "markdown",
      "metadata": {
        "id": "ZrC_kSLwNnYO"
      },
      "source": [
        "- **(c)** What happens if we change the smoothing parameter ($\\alpha$)? Calculate the accuracy for a range of values from 5 to 500. For the very large values, examine the predicted classes for the test instances — what is happening?"
      ]
    },
    {
      "cell_type": "code",
      "execution_count": null,
      "metadata": {
        "colab": {
          "base_uri": "https://localhost:8080/",
          "height": 265
        },
        "id": "EOtRV4eyNnYP",
        "outputId": "9615eda8-12df-4b89-ffc2-d4f7e84bfca9"
      },
      "outputs": [
        {
          "output_type": "display_data",
          "data": {
            "text/plain": [
              "<Figure size 432x288 with 1 Axes>"
            ],
            "image/png": "[encoded data removed]"
          },
          "metadata": {
            "needs_background": "light"
          }
        }
      ],
      "source": [
        "Alpha_list = [5,10,20,50,100,500]\n",
        "\n",
        "m_acc=[]\n",
        "b_acc=[]\n",
        "for i in Alpha_list:\n",
        "    mnb = MultinomialNB(alpha=i)\n",
        "    bnb = BernoulliNB(alpha=i)\n",
        "    \n",
        "    mnb.fit(X_train, y_train)\n",
        "    acc = mnb.score(X_test, y_test)\n",
        "    #print(\"\\nMNB with aplha =\", i ,\" score is %f \" %acc)\n",
        "    m_acc.append(acc)\n",
        "\n",
        "    \n",
        "    bnb.fit(X_train, y_train)\n",
        "    acc = bnb.score(X_test, y_test)\n",
        "    #print(\"BNB with aplha =\", i ,\" score is %f \" %acc)\n",
        "    b_acc.append(acc)\n",
        "\n",
        "plt.plot(Alpha_list,m_acc,label=\"MNB\")\n",
        "plt.plot(Alpha_list,b_acc,label=\"BNB\")\n",
        "plt.legend()\n",
        "plt.show()"
      ]
    },
    {
      "cell_type": "markdown",
      "metadata": {
        "id": "2V458569NnYQ"
      },
      "source": [
        "*For large values of the smoothing parameter, every instance is predicted to be the majority-class - effectively, this is the same behaviour as 0-R!*"
      ]
    },
    {
      "cell_type": "markdown",
      "metadata": {
        "id": "jR_MwUYWNnYR"
      },
      "source": [
        "### Exercise 4.\n",
        "The transformation of the data in Q2 implicitly creates ordinal attributes. At first glance, such a strategy does seem reasonable in light of the given values (such as *small, med, big*).\n",
        "A different strategy would be to `binarise` the attributes: to replace a categorical attribute having `m` values with `m binary attributes`. One way of doing this in scikit-learn is using the **OneHotEncoder** :\n",
        "\n",
        "```python\n",
        "from sklearn.preprocessing import OneHotEncoder\n",
        "ohe = OneHotEncoder()\n",
        "ohe.fit(X)\n",
        "X_trans = ohe.transform(X).toarray()\n",
        "```\n",
        "\n",
        "Note that this transformation should be done before we split the data into training and test sets. (Why?)"
      ]
    },
    {
      "cell_type": "markdown",
      "metadata": {
        "id": "6D1cpLM6NnYR"
      },
      "source": [
        "- **(a)** Check the shape of `X_trans` — how many attributes do we have now? Does this correspond to your expectations?"
      ]
    },
    {
      "cell_type": "code",
      "execution_count": null,
      "metadata": {
        "id": "c_TVsfrGNnYS",
        "outputId": "2526774f-2c63-4a71-9aa3-40e5a213667c"
      },
      "outputs": [
        {
          "name": "stdout",
          "output_type": "stream",
          "text": [
            "(1728, 21)\n",
            "X[0]: ['vhigh', 'vhigh', '2', '2', 'small', 'low']\n",
            "X_trans[0]: [0. 0. 0. 1. 0. 0. 0. 1. 1. 0. 0. 0. 1. 0. 0. 1. 0. 0. 1. 0. 0.]\n"
          ]
        }
      ],
      "source": [
        "from sklearn.preprocessing import OneHotEncoder\n",
        "ohe = OneHotEncoder()\n",
        "ohe.fit(X_ordinal)\n",
        "X_trans = ohe.transform(X_ordinal).toarray()\n",
        "\n",
        "print(X_trans.shape)\n",
        "print('X[0]:', X[0])\n",
        "print('X_trans[0]:', X_trans[0])\n"
      ]
    },
    {
      "cell_type": "markdown",
      "metadata": {
        "id": "PcojHfYFNnYS"
      },
      "source": [
        "- **(b)** Split the dataset comprised of `one–hot attributes` into **train** and **test** sets. Compare the accuracies of the three Naive Bayes models using ordinal attributes with the three models using `one–hot attributes`: are you surprised? What can we infer?\n",
        "\n"
      ]
    },
    {
      "cell_type": "code",
      "execution_count": null,
      "metadata": {
        "id": "nZ7ePNZeNnYT",
        "outputId": "7b8e0963-4d7f-41ac-dec1-e50fc205809d"
      },
      "outputs": [
        {
          "name": "stdout",
          "output_type": "stream",
          "text": [
            "\n",
            "GNB score 0.793345 \n",
            "MNB score 0.816112 \n",
            "BNB score 0.837128 \n",
            "\n",
            "GNB score 0.824869 \n",
            "MNB score 0.865149 \n",
            "BNB score 0.891419 \n",
            "\n",
            "GNB score 0.789842 \n",
            "MNB score 0.814361 \n",
            "BNB score 0.858144 \n",
            "\n",
            "Avg GNB score: 0.8026853473438411\n",
            "Avg MNB score: 0.8318739054290717\n",
            "Avg BNB score: 0.8622300058377116\n"
          ]
        }
      ],
      "source": [
        "from sklearn.naive_bayes import GaussianNB, MultinomialNB, BernoulliNB\n",
        "\n",
        "gnb_accs = []\n",
        "mnb_accs = []\n",
        "bnb_accs = []\n",
        "gnb = GaussianNB()\n",
        "mnb = MultinomialNB()\n",
        "bnb = BernoulliNB()\n",
        "\n",
        "for i in range(3):\n",
        "    X_train, X_test, y_train, y_test = train_test_split(X_trans, y_num, test_size=0.33, random_state=i)\n",
        "    gnb.fit(X_train, y_train)\n",
        "    acc = gnb.score(X_test, y_test)\n",
        "    print(\"\\nGNB score %f \" %acc)\n",
        "    gnb_accs.append(acc)\n",
        "    \n",
        "    mnb.fit(X_train, y_train)\n",
        "    acc = mnb.score(X_test, y_test)\n",
        "    print(\"MNB score %f \" %acc)\n",
        "    mnb_accs.append(acc)\n",
        "    \n",
        "    bnb.fit(X_train, y_train)\n",
        "    acc = bnb.score(X_test, y_test)\n",
        "    print(\"BNB score %f \" %acc)\n",
        "    bnb_accs.append(acc)\n",
        "    \n",
        "print('\\nAvg GNB score: {}'.format(np.mean(gnb_accs)))\n",
        "print('Avg MNB score: {}'.format(np.mean(mnb_accs)))\n",
        "print('Avg BNB score: {}'.format(np.mean(bnb_accs)))"
      ]
    },
    {
      "cell_type": "markdown",
      "metadata": {
        "id": "XdwHDI9yNnYU"
      },
      "source": [
        "*This is a fairly drastic difference: Bernoulli NB is still the best option, but both Gaussian and Multinomial NB are no longer useless. It appears that all of these learners can identify meaningful patterns, just by taking the attribute value in isolation (and not in relation to the presumed ordering) - and so, perhaps our original assignment of 0,1,2,3 was too simple to discover patterns.*\n",
        "\n",
        "*At this point, we can also observe that the default behaviour of scikit-learn's Bernoulli NB is to do ... something ... with non-binary attributes, but it is usually better to make them explicitly binary using the one-hot transformer. (If you're curious, in this case, it's treating whichever value is 0 as \"N\", and the other values as \"Y\".)*"
      ]
    }
  ],
  "metadata": {
    "kernelspec": {
      "display_name": "Python 3",
      "language": "python",
      "name": "python3"
    },
    "language_info": {
      "codemirror_mode": {
        "name": "ipython",
        "version": 3
      },
      "file_extension": ".py",
      "mimetype": "text/x-python",
      "name": "python",
      "nbconvert_exporter": "python",
      "pygments_lexer": "ipython3",
      "version": "3.8.3"
    },
    "colab": {
      "name": "prac-solution-04-21.ipynb",
      "provenance": []
    }
  },
  "nbformat": 4,
  "nbformat_minor": 0
}