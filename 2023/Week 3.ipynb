{
  "cells": [
    {
      "cell_type": "markdown",
      "source": [
        "[![Open In Colab](https://colab.research.google.com/assets/colab-badge.svg)](https://colab.research.google.com/github/tuankhoin/COMP30027-Practical-Solutions/blob/main/2023/Week%203.ipynb)"
      ],
      "metadata": {
        "id": "O7Y-Pxl9K48q"
      },
      "id": "O7Y-Pxl9K48q"
    },
    {
      "cell_type": "code",
      "source": [
        "# FYI, this mounts your Google Drive directory to this Colab notebook, \n",
        "#  in case you want to run the worksheet on Colab like I do ;)\n",
        "from google.colab import drive \n",
        "drive.mount('/content/gdrive')\n",
        "path = \"gdrive/My Drive/COMP30027 (T) 2023/week3/\""
      ],
      "metadata": {
        "id": "-YW4bGXUKpGi"
      },
      "id": "-YW4bGXUKpGi",
      "execution_count": null,
      "outputs": []
    },
    {
      "cell_type": "markdown",
      "source": [
        "In case you forgot or missed the last tute, my name is Khoi.\n",
        "### When assignment comes out:\n",
        "* Follow-up questions for the tutes, assignment query: `tuankhoi@unimelb.edu.au` || `tuankhoin@student.unimelb.edu.au`\n",
        "* 'Dog ate my homework', 'I got covid',...: *Ed forum* && `hasti.samadi@unimelb.edu.au`"
      ],
      "metadata": {
        "id": "ZJj8V9Prah0n"
      },
      "id": "ZJj8V9Prah0n"
    },
    {
      "cell_type": "markdown",
      "id": "0cc383c7-4300-4d63-80dc-9490612a500a",
      "metadata": {
        "id": "0cc383c7-4300-4d63-80dc-9490612a500a"
      },
      "source": [
        "### The University of Melbourne, School of Computing and Information Systems\n",
        "# COMP30027 Machine Learning, 2023 Semester 1\n",
        "\n",
        "## Week 3 - Probabilities & Naive Bayes\n",
        "\n",
        "- Q: 'How much math will there be in Machine Learning?'\n",
        "- A: No complex derivative or linear algebra, but yes\n",
        "\n",
        "👇 Probability is among one of the examinables\n",
        "\n",
        "---\n",
        "## Theoretical questions"
      ]
    },
    {
      "cell_type": "markdown",
      "source": [
        "### Question 1\n",
        "- Approximately 1% of women aged between 40 and 50 have breast cancer. \n",
        "- 80% of mammogram screening tests detect breast cancer when it is there.\n",
        "- 90% of mammograms DO NOT show breast cancer when it’s NOT there. \n",
        "\n",
        "| Cancer | Probability |\n",
        "|--------|-------------|\n",
        "| No     | 99%         |\n",
        "| Yes    | 1%          |\n",
        "\n",
        "Based on these information complete the following table\n",
        "\n",
        "| Cancer | Test | Probability of Test given Cancer: P(T\\|C) |\n",
        "|--------|------|-------------|\n",
        "| Yes    | +    | 80%         |\n",
        "| Yes    | -    | `P(-\\|Cancer=Yes) = ?`           |\n",
        "| No     | +    | `P(+\\|Cancer=No) = ?`           |\n",
        "| No     | -    | 90%         |\n",
        "\n",
        "#### Answer\n",
        "Fact: Would be good to explain your short-hand notations if you plan to use one. Here:\n",
        "- `+` means `Test = Positive`\n",
        "- `-` means `Test = Negative`.\n",
        "\n",
        "We know that all possibilites add up to 100% right?\n",
        "\n",
        "- So then if the patient has cancer: `P(Cancer = Yes) = P(+|Cancer=Yes) + P(-|Cancer=Yes) = 100%`\n",
        "- We already got from the table that `P(+|Cancer=Yes) = 80%`, so `P(-|Cancer=Yes) = 100% - 80% = 20%`\n",
        "\n",
        "Similar way, we will get `P(+|Cancer=No) = 100% - 10% = 90%` \n",
        "\n",
        "**FYI**: These are called **False Negatives (FN)** and **False Positives (FP)**. You will learn more about their effect in the later lectures."
      ],
      "metadata": {
        "id": "z9a7ffi3MhIW"
      },
      "id": "z9a7ffi3MhIW"
    },
    {
      "cell_type": "markdown",
      "source": [
        "### Question 2\n",
        "Based on the results in question 1, calculate the marginal probability of ‘positive’ results in a mammogram screening test.\n",
        "\n",
        "#### Answer\n",
        "*More short-hand notations*:\n",
        "- $P(!Cancer) = P(Cancer = No)$\n",
        "- $P(Cancer) = P(Cancer = Yes)$\n",
        "\n",
        "Now to the working\n",
        "1. Remember this rule: $P(A) = \\sum_nP(A|B_n)P(B_n)$\n",
        "2. Then: $P(+) = P(+|!Cancer)P(!Cancer) + P(+|Cancer)P(Cancer)$\n",
        "3. Remember that: \n",
        "  - $P(!Cancer) = 99\\%$ and $P(Cancer) = 1\\%$\n",
        "  - $P(+|Cancer) = 80\\%$ and $P(+|!Cancer) = 10\\%$\n",
        "4. Doing the maths, you will get $P(+) = 0.1 \\times 0.99 + 0.8 \\times 0.01 = 0.107$\n",
        "\n",
        "FYI: This is the **Joint Probability Distribution** table:\n",
        "\n",
        "| Cancer/Test | +                         | -                         | **Total** |\n",
        "|-------------|---------------------------|---------------------------|-----------|\n",
        "| Yes         | 0.01 x 0.8 = 0.008        | 0.01 x 0.2 = 0.002        | **0.01**  |\n",
        "| No          | 0.99 x 0.1 = 0.099        | 0.99 x 0.9 = 0.891        | **0.99**  |\n",
        "| **Total**   | **0.008 + 0.099 = 0.107** | **0.002 + 0.891 = 0.893** | 1         |\n",
        "\n",
        "The **Total**, row and column, are showing the **Marginal Probability**"
      ],
      "metadata": {
        "id": "Qe0bozxVRn-R"
      },
      "id": "Qe0bozxVRn-R"
    },
    {
      "cell_type": "markdown",
      "source": [
        "### Question 3\n",
        "Based on the results in question 1, calculate $P(Cancer | +)$, using the Bayes Rule\n",
        "\n",
        "#### Answer\n",
        "- Using Bayes Rule: $$P(Cancer|+) = \\frac{P(+|Cancer)P(Cancer)}{P(+)}$$\n",
        "- Substitute the numbers in: $$P(Cancer|+) = \\frac{0.8 \\times 0.01}{0.107} \\approx  7.5\\%$$\n",
        "\n",
        "This result shows that even if a mammography test results returns positive, there is only 7.5% chance that the person actually has Cancer!"
      ],
      "metadata": {
        "id": "JaiL1Gv4Zr5l"
      },
      "id": "JaiL1Gv4Zr5l"
    },
    {
      "cell_type": "markdown",
      "source": [
        "### Question 4\n",
        "![image.png](data:image/png;base64,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)"
      ],
      "metadata": {
        "id": "dOFDuJFLa8F7"
      },
      "id": "dOFDuJFLa8F7"
    },
    {
      "cell_type": "markdown",
      "source": [
        "#### i. Describe the test and train instances\n",
        "<details>\n",
        "    <summary>Answer</summary>\n",
        "    Instances A,B,C,D,E and F are our train instances (or observations) in this dataset, and the instances G and H that do not have a label are our test instances. \n",
        "</details>\n",
        "\n",
        "#### ii. Build a Naïve Bayes model for the given training instances.\n",
        "\n",
        "You are just collecting the prior probabilities... \n",
        "- P(Play = Y) = 0.5\n",
        "- P(Play = N) = 0.5\n",
        "\n",
        "...and conditional probabilities\n",
        "- P(Outl = s | N) = 2/3\n",
        "- P(Outl = o | N) = 0\n",
        "- P(Outl = r | N) = 1/3\n",
        "\n",
        "  - P(Outl = s | Y) = 0\n",
        "  - P(Outl = o | Y) = 1/3\n",
        "  - P(Outl = r | Y) = 2/3\n",
        "\n",
        "- P(Temp = h | N) = 2/3\n",
        "- P(Temp = m | N) =  0\n",
        "- P(Temp = c | N) = 1/3\n",
        "\n",
        "  - P(Temp = h | Y) = 1/3\n",
        "  - P(Temp = m | Y) = 1/3\n",
        "  - P(Temp = c | Y) = 1/3\n",
        "\n",
        "- P(Humi = n | N) = 2/3\n",
        "- P(Humi = h | N) = 1/3\n",
        "\n",
        "  - P(Humi = n | Y) = 1/3\n",
        "  - P(Humi = h | Y) = 2/3\n",
        "\n",
        "- P(Wind = T | N) = 2/3\n",
        "- P(Wind = F | N) = 1/3\n",
        "\n",
        "  - P(Wind = T | Y) = 0\n",
        "  - P(Wind = F | Y) = 1\n"
      ],
      "metadata": {
        "id": "fty5VvV5camO"
      },
      "id": "fty5VvV5camO"
    },
    {
      "cell_type": "markdown",
      "source": [
        "### Question 5\n",
        "Using the Naïve Bayes model that you developed in question 4, classify the given test instances\n",
        "- No smoothing\n",
        "- Epsilon smoothing (replace 0 with a small value)\n",
        "- Laplace smoothing with $\\alpha=1$ ($P_i = \\frac{x_i+\\alpha}{N + \\alpha d}$)\n",
        "\n",
        "Remember: `d` represents the number of instances with the given label in the dataset. If you're calculating `P(something|x)`, `d` is the number of training instances with label `x`.\n",
        "\n",
        "#### Answer: No smoothing\n",
        "G:\n",
        "- $P(G=N) = P(N) \\times P(Outl=o|N)P(Temp=m|N)P(Humi=n|N)P(Wind=T|N) \\\\= 0.5 \\times 0 \\times 0 \\times 2/3 \\times 2/3 \\\\= 0$\n",
        "- $P(G=Y) = P(Y) \\times P(Outl=o|Y)P(Temp=m|Y)P(Humi=n|Y)P(Wind=T|Y) \\\\= 0.5 \\times 1/3 \\times 1/3 \\times 1/3 \\times 0 \\\\= 0$\n",
        "\n",
        "H: Ignore the missing instances\n",
        "- $P(H=N) = P(N) \\times P(Temp=h|N)P(Wind=F|N) \\\\= 1/2 \\times 2/3 \\times 1/3 \\\\= 1/9$\n",
        "- $P(H=N) = P(Y) \\times P(Temp=h|Y)P(Wind=F|Y) \\\\= 1/2 \\times 1/3 \\times 1 \\\\= 1/6$\n",
        "\n",
        "#### Answer: Epsilon smoothing\n",
        "Just replace any 0 with $\\epsilon$\n",
        "\n",
        "G:\n",
        "- $P(G=N) = P(N) \\times P(Outl=o|N)P(Temp=m|N)P(Humi=n|N)P(Wind=T|N) \\\\= 0.5 \\times \\epsilon \\times \\epsilon \\times 2/3 \\times 2/3 \\\\= 2\\epsilon^2/9$\n",
        "- $P(G=Y) = P(Y) \\times P(Outl=o|Y)P(Temp=m|Y)P(Humi=n|Y)P(Wind=T|Y) \\\\= 0.5 \\times 1/3 \\times 1/3 \\times 1/3 \\times \\epsilon \\\\= \\epsilon/54$\n",
        "\n",
        "$\\epsilon/54 > 2\\epsilon^2/9$ for small $\\epsilon$ (Rule of thumb: The more $\\epsilon$ in it, the smaller)\n",
        "\n",
        "So Y is more likely for G\n",
        "<details>\n",
        "    <summary>We know the answer for H already. Why?</summary>\n",
        "   No 0 probabilities in the calculation\n",
        "</details>\n",
        "\n",
        "#### Answer: Laplace smoothing (let $\\alpha=1$)\n",
        "- Look at the `Outl` attribute: it has 3 different values (s,o,r)\n",
        "\n",
        "- So $P(Outl = o|Y) = \\frac{1+\\alpha}{3+3\\alpha}=\\frac{1+1}{3+3} = \\frac{2}{6}$\n",
        "\n",
        "Try the same for other probabilities in the equation."
      ],
      "metadata": {
        "id": "m7o8dSXFgO8-"
      },
      "id": "m7o8dSXFgO8-"
    },
    {
      "cell_type": "markdown",
      "source": [
        "The rest of the answer, which I am too lazy to type out:\n",
        "\n",
        "![image.png](data:image/png;base64,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)"
      ],
      "metadata": {
        "id": "VFaZBKlJnMyD"
      },
      "id": "VFaZBKlJnMyD"
    },
    {
      "cell_type": "markdown",
      "source": [
        "### Extra question (Open-ended)\n",
        "How suitable do you think the Naive Bayes model is to the given dataset?\n",
        "\n",
        "*Hint: What does Naive Bayes assume?*"
      ],
      "metadata": {
        "id": "2PGGODDnSBFT"
      },
      "id": "2PGGODDnSBFT"
    },
    {
      "cell_type": "markdown",
      "source": [
        "---\n",
        "## Coding Exercises\n",
        "\n",
        "This week we are going to implement Naive Bayes algorithem by calculating probabilities. \n",
        "\n",
        "The dataset that you are using this week consist of a dataset with 108 bridges.We use a modified version of the publicly available <a href=\"https://archive.ics.uci.edu/ml/datasets/Pittsburgh+Bridges\"> Pittsburgh Bridges Data Set</a>. (click the link for more information on all features and values).\n",
        "\n",
        "Each bridge is defined by 11 features and 1 label. These features are `River`, `Erected`, `Purpose`, `Length`, `Lanes`, `Clear`, `T-OR-D`, `Material`, `Span` and `Rel-L`. </br> The labels of these bridges are `ARCH`, `CANTILEV`, `CONT-T`, `NIL`, `SIMPLE-T`, `SUSPEN` and `WOOD`."
      ],
      "metadata": {
        "id": "ICf9j0KvMQ8I"
      },
      "id": "ICf9j0KvMQ8I"
    },
    {
      "cell_type": "code",
      "execution_count": null,
      "id": "cf9f360e-c8a2-497f-a3e1-d432bf29caf3",
      "metadata": {
        "id": "cf9f360e-c8a2-497f-a3e1-d432bf29caf3"
      },
      "outputs": [],
      "source": [
        "import random\n",
        "import numpy as np\n",
        "import pandas as pd\n",
        "\n",
        "from pprint import pprint"
      ]
    },
    {
      "cell_type": "markdown",
      "id": "10b06816-2a97-4c9a-9c12-aa51229a9275",
      "metadata": {
        "id": "10b06816-2a97-4c9a-9c12-aa51229a9275"
      },
      "source": [
        "The first step is to read the dataset into a dataframe."
      ]
    },
    {
      "cell_type": "code",
      "execution_count": null,
      "id": "e014c52e-d8f4-4591-9c19-8bf2f8951a60",
      "metadata": {
        "id": "e014c52e-d8f4-4591-9c19-8bf2f8951a60",
        "outputId": "2f538600-adc8-4bab-a66f-7b0293e84d49"
      },
      "outputs": [
        {
          "name": "stdout",
          "output_type": "stream",
          "text": [
            "  River Erected   Purpose  Length  Lanes Clear   T-OR-D Material    Span  \\\n",
            "0     M  CRAFTS   HIGHWAY  MEDIUM      2     N  THROUGH     WOOD   SHORT   \n",
            "1     A  CRAFTS  AQUEDUCT  MEDIUM      1     N     DECK     WOOD  MEDIUM   \n",
            "2     O  MODERN   HIGHWAY  MEDIUM      2     G  THROUGH    STEEL  MEDIUM   \n",
            "3     O  MATURE   HIGHWAY  MEDIUM      2     G  THROUGH    STEEL    LONG   \n",
            "4     O  MODERN   HIGHWAY  MEDIUM      2     G  THROUGH    STEEL    LONG   \n",
            "\n",
            "  Rel-L     Label  \n",
            "0     S      WOOD  \n",
            "1     S      WOOD  \n",
            "2     F      ARCH  \n",
            "3   S-F  CANTILEV  \n",
            "4     F    CONT-T  \n"
          ]
        }
      ],
      "source": [
        "# read the input file\n",
        "# If you mount to drive, you have to specify the path too!\n",
        "df = pd.read_csv(path + \"bridges.csv\")\n",
        "\n",
        "print(df.head())"
      ]
    },
    {
      "cell_type": "markdown",
      "id": "bc585bc9-20f6-44d8-b9ce-4254b787addc",
      "metadata": {
        "id": "bc585bc9-20f6-44d8-b9ce-4254b787addc"
      },
      "source": [
        "The we want to split the data to Train and Test. Let's assign the fisrt 85 instances for training and the last 23 instances for testing."
      ]
    },
    {
      "cell_type": "code",
      "execution_count": null,
      "id": "246e5c84-35b7-4606-b0de-eee75c1af2e0",
      "metadata": {
        "id": "246e5c84-35b7-4606-b0de-eee75c1af2e0"
      },
      "outputs": [],
      "source": [
        "train_df = df[:85]\n",
        "test_df = df[85:]\n",
        "assert(len(train_df)==85)\n",
        "assert(len(test_df)==23)"
      ]
    },
    {
      "cell_type": "markdown",
      "id": "d8635018-e40d-426b-a98b-1dde3f73ab29",
      "metadata": {
        "id": "d8635018-e40d-426b-a98b-1dde3f73ab29"
      },
      "source": [
        "**Exercise 1.** Write a piece of code to calculate the probability of having the label 'WOOD' in the whole dataset.\n",
        "```python\n",
        "#Probability of `WOOD` in Labels\n",
        "Wood = (df['Label'] == \"WOOD\")\n",
        "count = ...     #add all the 1 ('True') values to count the number of times that label == wood\n",
        "n = ...      #all the instances  \n",
        "print(count/n)\n",
        "```"
      ]
    },
    {
      "cell_type": "code",
      "execution_count": null,
      "id": "9894a4d6-64c7-4970-a321-1b602b055ee5",
      "metadata": {
        "id": "9894a4d6-64c7-4970-a321-1b602b055ee5",
        "outputId": "8c358536-f9f3-4589-82e6-90d6f00d86c8"
      },
      "outputs": [
        {
          "name": "stdout",
          "output_type": "stream",
          "text": [
            "0.14814814814814814\n"
          ]
        }
      ],
      "source": [
        "#Probability of `WOOD` in Labels\n",
        "Wood = (df['Label'] == \"WOOD\")\n",
        "count = Wood.sum() #add all the 1 ('True') values to count the number of times that label == wood\n",
        "n = Wood.count() #all the instances\n",
        "print(count/n)"
      ]
    },
    {
      "cell_type": "markdown",
      "id": "022b9fce-1847-45eb-8a51-fc5561a3b37a",
      "metadata": {
        "id": "022b9fce-1847-45eb-8a51-fc5561a3b37a"
      },
      "source": [
        "## Train a Naive Bayes model\n",
        "\n",
        "As introduced in the lectures, for builing the NB model, we need to calculte some probabilities. \n",
        "### Prior probabilities\n",
        "The first set of probabilities we need is the Prior probabilities. These show the current distribution of label values in the training set. In our specific case, we need to calculate the probability of all the labels (ARCH, CANTILEV, CONT-T, NIL, SIMPLE-T, SUSPEN, and WOOD) in the given dataset.\n",
        "\n",
        "**Exercise 2.** Complete the following function to calculate the prior probabilities for our dataset.\n",
        "\n",
        "```python\n",
        "def calc_prior(data):\n",
        "    prior_prob = {}\n",
        "\n",
        "    labels = ...\n",
        "    unique_labels, counts = np.unique(labels, return_counts=True)\n",
        "\n",
        "    for i in range(len(unique_labels)):\n",
        "        prior_prob[unique_labels[i]] = (counts[i] / n).round(2)\n",
        "\n",
        "    return prior_prob\n",
        "```"
      ]
    },
    {
      "cell_type": "code",
      "execution_count": null,
      "id": "0f7ba107-ab2e-4a74-bbaf-62b817183240",
      "metadata": {
        "id": "0f7ba107-ab2e-4a74-bbaf-62b817183240"
      },
      "outputs": [],
      "source": [
        "# Probability of all the labels\n",
        "def calc_prior(data):\n",
        "    prior_prob = {}\n",
        "\n",
        "    labels = data.values[:, -1]\n",
        "    unique_labels, counts = np.unique(labels, return_counts=True)\n",
        "    #print(unique_labels)\n",
        "\n",
        "    for i in range(len(unique_labels)):\n",
        "        prior_prob[unique_labels[i]] = (counts[i] / n).round(2)\n",
        "\n",
        "    return prior_prob"
      ]
    },
    {
      "cell_type": "markdown",
      "id": "8da40f30-2fe0-4fac-98fc-165edd10d009",
      "metadata": {
        "id": "8da40f30-2fe0-4fac-98fc-165edd10d009"
      },
      "source": [
        "### Likelihoods\n",
        "The next set of probabilities we need to calculate are the conditional probabilities. We need to know the likelihood of each feature value given a specific label. We need a 3-dimensional dataset to store all the required conditional probabilities. The dataset should contain all the features (1st dimension), all their possible values (2nd dimension), and the conditional probability of each feature value given a specific label (3rd dimension).\n",
        "\n",
        "**Exercise 3.** Complete the following function to calculate the likelihoods for our dataset.\n",
        "```python\n",
        "def calc_likelihood(data):\n",
        "    # Create an empty dictionary to store the likelihoods\n",
        "    likelihood = {}\n",
        "\n",
        "    for feature in features_list:\n",
        "        feature_values = ...\n",
        "        \n",
        "        # Create a nested dictionary for each feature\n",
        "        likelihood[feature] = {}\n",
        "\n",
        "        for label in unique_labels:\n",
        "            # Create a nested dictionary for each label\n",
        "            likelihood[feature][label] = {}\n",
        "\n",
        "            for value in feature_values:\n",
        "                count = ...\n",
        "                total_count = ...\n",
        "\n",
        "                likelihood[feature][label][value] = count / total_count\n",
        "    return likelihood\n",
        "```"
      ]
    },
    {
      "cell_type": "code",
      "execution_count": null,
      "id": "c6368090-10bc-405e-9e58-5491ad76ce91",
      "metadata": {
        "id": "c6368090-10bc-405e-9e58-5491ad76ce91"
      },
      "outputs": [],
      "source": [
        "def calc_likelihood(data):\n",
        "    # Create an empty dictionary to store the likelihoods\n",
        "    likelihood = {}\n",
        "    unique_labels = np.unique(data.values[:, -1])\n",
        "    features_list = data.columns\n",
        "    \n",
        "    for feature in features_list:\n",
        "        feature_values = np.unique(data[feature])\n",
        "\n",
        "        # Create a nested dictionary for each feature\n",
        "        likelihood[feature] = {}\n",
        "\n",
        "        for label in unique_labels:\n",
        "            # Create a nested dictionary for each label\n",
        "            likelihood[feature][label] = {}\n",
        "\n",
        "            total_count = len(data[data['Label'] == label])\n",
        "            for value in feature_values:\n",
        "                count = len(data[(data['Label'] == label) & (data[feature] == value)])\n",
        "                likelihood[feature][label][value] = count / total_count\n",
        "                #print(f\"Likelihood of {feature}={value} given label {label} is {likelihood[feature][label][value]:.4f}\")\n",
        "    return likelihood\n"
      ]
    },
    {
      "cell_type": "markdown",
      "id": "8975fd22-fcef-4708-981f-507a9aa725f4",
      "metadata": {
        "id": "8975fd22-fcef-4708-981f-507a9aa725f4"
      },
      "source": [
        "### Posterior probabilties\n",
        "\n",
        "Using these values (prior probabilities and likelihoods), we can calculate the posterior probabities for all the items in our dataset."
      ]
    },
    {
      "cell_type": "code",
      "execution_count": null,
      "id": "f0fe0306-2462-4036-920c-0f0a96db4852",
      "metadata": {
        "id": "f0fe0306-2462-4036-920c-0f0a96db4852"
      },
      "outputs": [],
      "source": [
        "def calc_posterior(data, prior_prob, likelihood):\n",
        "    posterior_probs = []\n",
        "\n",
        "    for _, instance in data.iterrows():\n",
        "        post_probs = {}\n",
        "        for label in prior_prob:\n",
        "            post_probs[label] = prior_prob[label]\n",
        "            for feature in likelihood:\n",
        "                    post_probs[label] *= likelihood[feature][label][instance[feature]]\n",
        "\n",
        "        posterior_probs.append(post_probs)\n",
        "\n",
        "    return posterior_probs"
      ]
    },
    {
      "cell_type": "markdown",
      "id": "4df44a5f-95b8-4f2b-a266-cdcccaad4963",
      "metadata": {
        "id": "4df44a5f-95b8-4f2b-a266-cdcccaad4963"
      },
      "source": [
        "### Train the model\n",
        "\n",
        "Having all the required helper functions, all we need to train a Navie Bayes model is to call them for the training dataset."
      ]
    },
    {
      "cell_type": "code",
      "execution_count": null,
      "id": "e2a9fb38-a807-4286-9680-4355967732f6",
      "metadata": {
        "id": "e2a9fb38-a807-4286-9680-4355967732f6"
      },
      "outputs": [],
      "source": [
        "def train_NB(data):\n",
        "    # Calculate prior probabilities\n",
        "    prior_prob = calc_prior(data)\n",
        "\n",
        "    # Calculate likelihoods\n",
        "    likelihood = calc_likelihood(data)\n",
        "\n",
        "    return prior_prob, likelihood\n"
      ]
    },
    {
      "cell_type": "markdown",
      "id": "ce3f4d1a-696f-4ea8-a5c6-3bb30b66b00c",
      "metadata": {
        "id": "ce3f4d1a-696f-4ea8-a5c6-3bb30b66b00c"
      },
      "source": [
        "### Predict the label using the trained model\n",
        "\n",
        "When predicting the label using a NB model, we need to find the label that has the maximum posterior probability for each instance in the dataset."
      ]
    },
    {
      "cell_type": "code",
      "execution_count": null,
      "id": "f05898d5-75be-442b-a657-ebe51cb50de4",
      "metadata": {
        "id": "f05898d5-75be-442b-a657-ebe51cb50de4"
      },
      "outputs": [],
      "source": [
        "def predict_NB(data, prior_prob, likelihood):\n",
        "    # Calculate posterior probabilities\n",
        "    posterior_probs = calc_posterior(data, prior_prob, likelihood)\n",
        "    \n",
        "    # Find argmax for each instance\n",
        "    argmax_labels = []\n",
        "    for post_probs in posterior_probs:\n",
        "        max_prob = 0\n",
        "        max_label = None\n",
        "        for label in post_probs:\n",
        "            if label in prior_prob:\n",
        "                prob = post_probs[label] * prior_prob[label]\n",
        "                if prob > max_prob:\n",
        "                    max_prob = prob\n",
        "                    max_label = label\n",
        "        if max_label is not None:\n",
        "            argmax_labels.append(max_label)\n",
        "    return argmax_labels"
      ]
    },
    {
      "cell_type": "markdown",
      "id": "874c31be-28e8-40a7-951d-ccd7fba8efc6",
      "metadata": {
        "id": "874c31be-28e8-40a7-951d-ccd7fba8efc6"
      },
      "source": [
        "Now lets train a model using the train dataset and predict the labels for the same set."
      ]
    },
    {
      "cell_type": "code",
      "execution_count": null,
      "id": "2ca27d6b-5d4e-4af4-bc97-9a11994a2eb9",
      "metadata": {
        "id": "2ca27d6b-5d4e-4af4-bc97-9a11994a2eb9"
      },
      "outputs": [],
      "source": [
        "prior_prob, likelihood = train_NB(train_df)\n",
        "\n",
        "predictions = predict_NB(train_df, prior_prob, likelihood)"
      ]
    },
    {
      "cell_type": "markdown",
      "id": "f85156b7-88be-475e-b761-9dcdbfe90255",
      "metadata": {
        "id": "f85156b7-88be-475e-b761-9dcdbfe90255"
      },
      "source": [
        "### Calculate the accuracy"
      ]
    },
    {
      "cell_type": "code",
      "execution_count": null,
      "id": "5ff6a5f1-f0ad-4981-9eb4-5425475e6108",
      "metadata": {
        "id": "5ff6a5f1-f0ad-4981-9eb4-5425475e6108"
      },
      "outputs": [],
      "source": [
        "def calc_accuracy(predictions, true_labels):\n",
        "    correct = 0\n",
        "    total = len(predictions)\n",
        "    for i in range(total):\n",
        "        if predictions[i] == true_labels[i]:\n",
        "            correct += 1\n",
        "    accuracy = correct / total\n",
        "    return accuracy"
      ]
    },
    {
      "cell_type": "code",
      "execution_count": null,
      "id": "3f028b72-679c-4d17-9358-c7af33f79277",
      "metadata": {
        "id": "3f028b72-679c-4d17-9358-c7af33f79277",
        "outputId": "b2683461-a578-49bd-b2e9-ae4ea0825617"
      },
      "outputs": [
        {
          "name": "stdout",
          "output_type": "stream",
          "text": [
            "Accuracy: 1.0\n"
          ]
        }
      ],
      "source": [
        "true_labels = train_df['Label'].tolist()\n",
        "accuracy = calc_accuracy(predictions, true_labels)\n",
        "print(\"Accuracy:\", accuracy)"
      ]
    },
    {
      "cell_type": "markdown",
      "id": "7797d673-1121-41d4-8f60-f5297666dc10",
      "metadata": {
        "id": "7797d673-1121-41d4-8f60-f5297666dc10"
      },
      "source": [
        "## The Challenge\n",
        "\n",
        "So far we have trained and test the model on the same dataset (train_df). Let's see what happens if we used the trained model to predict the labels for the test dataset."
      ]
    },
    {
      "cell_type": "code",
      "execution_count": null,
      "id": "661f5677-5ca3-43e8-9284-f89ae3a838f7",
      "metadata": {
        "id": "661f5677-5ca3-43e8-9284-f89ae3a838f7",
        "outputId": "2567a474-8107-47bf-d1c8-b4116af209cc"
      },
      "outputs": [
        {
          "ename": "KeyError",
          "evalue": "6",
          "output_type": "error",
          "traceback": [
            "\u001b[0;31m---------------------------------------------------------------------------\u001b[0m",
            "\u001b[0;31mKeyError\u001b[0m                                  Traceback (most recent call last)",
            "Input \u001b[0;32mIn [103]\u001b[0m, in \u001b[0;36m<cell line: 3>\u001b[0;34m()\u001b[0m\n\u001b[1;32m      1\u001b[0m prior_prob, likelihood \u001b[38;5;241m=\u001b[39m train_NB(train_df)\n\u001b[0;32m----> 3\u001b[0m predictions \u001b[38;5;241m=\u001b[39m \u001b[43mpredict_NB\u001b[49m\u001b[43m(\u001b[49m\u001b[43mtest_df\u001b[49m\u001b[43m,\u001b[49m\u001b[43m \u001b[49m\u001b[43mprior_prob\u001b[49m\u001b[43m,\u001b[49m\u001b[43m \u001b[49m\u001b[43mlikelihood\u001b[49m\u001b[43m)\u001b[49m\n",
            "Input \u001b[0;32mIn [99]\u001b[0m, in \u001b[0;36mpredict_NB\u001b[0;34m(data, prior_prob, likelihood)\u001b[0m\n\u001b[1;32m      1\u001b[0m \u001b[38;5;28;01mdef\u001b[39;00m \u001b[38;5;21mpredict_NB\u001b[39m(data, prior_prob, likelihood):\n\u001b[1;32m      2\u001b[0m     \u001b[38;5;66;03m# Calculate posterior probabilities\u001b[39;00m\n\u001b[0;32m----> 3\u001b[0m     posterior_probs \u001b[38;5;241m=\u001b[39m \u001b[43mcalc_posterior\u001b[49m\u001b[43m(\u001b[49m\u001b[43mdata\u001b[49m\u001b[43m,\u001b[49m\u001b[43m \u001b[49m\u001b[43mprior_prob\u001b[49m\u001b[43m,\u001b[49m\u001b[43m \u001b[49m\u001b[43mlikelihood\u001b[49m\u001b[43m)\u001b[49m\n\u001b[1;32m      5\u001b[0m     \u001b[38;5;66;03m# Find argmax for each instance\u001b[39;00m\n\u001b[1;32m      6\u001b[0m     argmax_labels \u001b[38;5;241m=\u001b[39m []\n",
            "Input \u001b[0;32mIn [97]\u001b[0m, in \u001b[0;36mcalc_posterior\u001b[0;34m(data, prior_prob, likelihood)\u001b[0m\n\u001b[1;32m      7\u001b[0m         post_probs[label] \u001b[38;5;241m=\u001b[39m prior_prob[label]\n\u001b[1;32m      8\u001b[0m         \u001b[38;5;28;01mfor\u001b[39;00m feature \u001b[38;5;129;01min\u001b[39;00m likelihood:\n\u001b[0;32m----> 9\u001b[0m                 post_probs[label] \u001b[38;5;241m*\u001b[39m\u001b[38;5;241m=\u001b[39m \u001b[43mlikelihood\u001b[49m\u001b[43m[\u001b[49m\u001b[43mfeature\u001b[49m\u001b[43m]\u001b[49m\u001b[43m[\u001b[49m\u001b[43mlabel\u001b[49m\u001b[43m]\u001b[49m\u001b[43m[\u001b[49m\u001b[43minstance\u001b[49m\u001b[43m[\u001b[49m\u001b[43mfeature\u001b[49m\u001b[43m]\u001b[49m\u001b[43m]\u001b[49m\n\u001b[1;32m     11\u001b[0m     posterior_probs\u001b[38;5;241m.\u001b[39mappend(post_probs)\n\u001b[1;32m     13\u001b[0m \u001b[38;5;28;01mreturn\u001b[39;00m posterior_probs\n",
            "\u001b[0;31mKeyError\u001b[0m: 6"
          ]
        }
      ],
      "source": [
        "prior_prob, likelihood = train_NB(train_df)\n",
        "\n",
        "predictions = predict_NB(test_df, prior_prob, likelihood)"
      ]
    },
    {
      "cell_type": "markdown",
      "id": "2e07fa34-a53a-4886-acce-fc106d79c2f2",
      "metadata": {
        "id": "2e07fa34-a53a-4886-acce-fc106d79c2f2"
      },
      "source": [
        "What is the issue? How do you think we can solve the problem?\n",
        "\n",
        "#### Answer\n",
        "Error shows that it is an indexing error case. Rechecking the code, you will see that when no cases are found, the likelihood is not appended into the list. As a result, indexing error happens when you try to get that specific indexing!\n",
        "\n",
        "We have the case of having zero probabilities and we need to do some kind of smoothing. We can re-write the `calc_likelihood` and `calc_posterior` functions as below."
      ]
    },
    {
      "cell_type": "code",
      "execution_count": null,
      "id": "c7a30922-0ae2-4869-a6fb-96ca86057f2d",
      "metadata": {
        "id": "c7a30922-0ae2-4869-a6fb-96ca86057f2d"
      },
      "outputs": [],
      "source": [
        "def calc_likelihood_with_smoothing(data):\n",
        "    # Create an empty dictionary to store the likelihoods\n",
        "    likelihood = {}\n",
        "    unique_labels = np.unique(data.values[:, -1])\n",
        "    features_list = data.columns\n",
        "    \n",
        "    for feature in features_list:\n",
        "        feature_values = np.unique(data[feature])\n",
        "\n",
        "        # Create a nested dictionary for each feature\n",
        "        likelihood[feature] = {}\n",
        "\n",
        "        for label in unique_labels:\n",
        "            # Create a nested dictionary for each label\n",
        "            likelihood[feature][label] = {}\n",
        "\n",
        "            for value in feature_values:\n",
        "                count = len(data[(data['Label'] == label) & (data[feature] == value)])\n",
        "                total_count = len(data[data['Label'] == label])\n",
        "\n",
        "                # Apply epsilon smoothing to avoid zero probability\n",
        "                likelihood[feature][label][value] = count/total_count\n",
        "                #(count + epsilon) / (total_count + epsilon * len(feature_values))\n",
        "                #print(f\"Likelihood of {feature}={value} given label {label} is {likelihood[feature][label][value]:.4f}\")\n",
        "    return likelihood"
      ]
    },
    {
      "cell_type": "code",
      "execution_count": null,
      "id": "ee7c73c4-23e0-47b3-84b2-78217cf463c8",
      "metadata": {
        "id": "ee7c73c4-23e0-47b3-84b2-78217cf463c8"
      },
      "outputs": [],
      "source": [
        "def calc_posterior_with_smoothing(data, prior_prob, likelihood, epsilon = 0.001):\n",
        "    posterior_probs = []\n",
        "    features_list = data.columns\n",
        "    \n",
        "    for _, instance in data.iterrows():\n",
        "        post_probs = {}\n",
        "        for label in prior_prob:\n",
        "            if label not in likelihood[features_list[0]]:\n",
        "                # skip label if not found in likelihood\n",
        "                continue\n",
        "            post_probs[label] = prior_prob[label]\n",
        "            for feature in likelihood:\n",
        "                if instance[feature] not in likelihood[feature][label]:\n",
        "                    # apply smoothing if value not found in likelihood\n",
        "                    post_probs[label] *= epsilon\n",
        "                else:\n",
        "                    post_probs[label] *= likelihood[feature][label][instance[feature]]\n",
        "\n",
        "        posterior_probs.append(post_probs)\n",
        "\n",
        "    return posterior_probs"
      ]
    },
    {
      "cell_type": "markdown",
      "id": "021a3f78-d9e8-433d-9da4-68b9219d67f7",
      "metadata": {
        "id": "021a3f78-d9e8-433d-9da4-68b9219d67f7"
      },
      "source": [
        "Now wen need to train and predict using these updated functions."
      ]
    },
    {
      "cell_type": "code",
      "execution_count": null,
      "id": "54b85d8c-865e-4434-8ceb-623997fbff65",
      "metadata": {
        "id": "54b85d8c-865e-4434-8ceb-623997fbff65"
      },
      "outputs": [],
      "source": [
        "def train_NB_with_smoothing(data):\n",
        "    # Calculate prior probabilities\n",
        "    prior_prob = calc_prior(data)\n",
        "\n",
        "    # Calculate likelihoods\n",
        "    likelihood = calc_likelihood_with_smoothing(data)\n",
        "\n",
        "    return prior_prob, likelihood"
      ]
    },
    {
      "cell_type": "code",
      "execution_count": null,
      "id": "02b70053-c725-4d25-b008-c85b4df74a2f",
      "metadata": {
        "id": "02b70053-c725-4d25-b008-c85b4df74a2f"
      },
      "outputs": [],
      "source": [
        "def predict_NB_with_smoothing(data, prior_prob, likelihood):\n",
        "    # Calculate posterior probabilities\n",
        "    posterior_probs = calc_posterior_with_smoothing(data, prior_prob, likelihood)\n",
        "    \n",
        "    # Find argmax for each instance\n",
        "    argmax_labels = []\n",
        "    for post_probs in posterior_probs:\n",
        "        max_prob = 0\n",
        "        max_label = None\n",
        "        for label in post_probs:\n",
        "            if label in prior_prob:\n",
        "                prob = post_probs[label] * prior_prob[label]\n",
        "                if prob > max_prob:\n",
        "                    max_prob = prob\n",
        "                    max_label = label\n",
        "        if max_label is not None:\n",
        "            argmax_labels.append(max_label)\n",
        "    return argmax_labels"
      ]
    },
    {
      "cell_type": "markdown",
      "id": "0175c486-33f1-4b16-ae35-e49a0f556e79",
      "metadata": {
        "id": "0175c486-33f1-4b16-ae35-e49a0f556e79"
      },
      "source": [
        "Now we can test and train the model on two differnt datasets."
      ]
    },
    {
      "cell_type": "code",
      "execution_count": null,
      "id": "9ec24e22-a87f-40b2-8ddf-41eee12cdfc0",
      "metadata": {
        "id": "9ec24e22-a87f-40b2-8ddf-41eee12cdfc0"
      },
      "outputs": [],
      "source": [
        "prior_prob, likelihood = train_NB_with_smoothing(train_df)\n",
        "\n",
        "predictions = predict_NB_with_smoothing(test_df, prior_prob, likelihood)"
      ]
    },
    {
      "cell_type": "code",
      "execution_count": null,
      "id": "ed8838ab-14c1-4dc9-a7ed-1354a95931fe",
      "metadata": {
        "id": "ed8838ab-14c1-4dc9-a7ed-1354a95931fe",
        "outputId": "712450d4-09c5-4f0c-da28-e5a1a742ecf5"
      },
      "outputs": [
        {
          "name": "stdout",
          "output_type": "stream",
          "text": [
            "Accuracy: 0.8695652173913043\n"
          ]
        }
      ],
      "source": [
        "true_labels = test_df['Label'].tolist()\n",
        "accuracy = calc_accuracy(predictions, true_labels)\n",
        "print(\"Accuracy:\", accuracy)"
      ]
    },
    {
      "cell_type": "markdown",
      "source": [
        "Try at home: Implement Laplace smoothing, and see what happens when you change $\\alpha$"
      ],
      "metadata": {
        "id": "orsBx_fO0w-T"
      },
      "id": "orsBx_fO0w-T"
    },
    {
      "cell_type": "markdown",
      "source": [
        "### End of today's workshop!\n",
        "- Can be examinable: probability calculations, train/test a Naive Bayes model **by hand**.\n",
        "- Assignment 1 is out! Thoughts?\n",
        "- Upon request, I will be uploading the modified notebooks to GitHub (QR Code below)"
      ],
      "metadata": {
        "id": "XMNqF8JSGopG"
      },
      "id": "XMNqF8JSGopG"
    },
    {
      "cell_type": "markdown",
      "source": [
        "![image.png](data:image/png;base64,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)"
      ],
      "metadata": {
        "id": "m_KjjPA0HEg2"
      },
      "id": "m_KjjPA0HEg2"
    }
  ],
  "metadata": {
    "kernelspec": {
      "display_name": "Python 3 (ipykernel)",
      "language": "python",
      "name": "python3"
    },
    "language_info": {
      "codemirror_mode": {
        "name": "ipython",
        "version": 3
      },
      "file_extension": ".py",
      "mimetype": "text/x-python",
      "name": "python",
      "nbconvert_exporter": "python",
      "pygments_lexer": "ipython3",
      "version": "3.9.13"
    },
    "colab": {
      "provenance": []
    }
  },
  "nbformat": 4,
  "nbformat_minor": 5
}