{
  "cells": [
    {
      "cell_type": "markdown",
      "source": [
        "[![Open In Colab](https://colab.research.google.com/assets/colab-badge.svg)](https://colab.research.google.com/github/tuankhoin/COMP30027-Practical-Solutions/blob/main/2023/Week%209.ipynb)"
      ],
      "metadata": {
        "id": "BFxhTfCa5Qg1"
      }
    },
    {
      "cell_type": "markdown",
      "metadata": {
        "id": "43QTm-S21w17"
      },
      "source": [
        "###### The University of Melbourne, School of Computing and Information Systems\n",
        "# COMP30027 Machine Learning, 2023\n",
        "\n",
        "## Week 9 - Text Processing & Feature Selection\n",
        "\n",
        "---\n",
        "\n",
        "## Theoretical Questions"
      ]
    },
    {
      "cell_type": "markdown",
      "source": [
        "### 1. We are doing some feature selection today\n",
        "\n",
        "| ID | Outl | Temp | Humi | Wind | Play |\n",
        "|----|------|------|------|------|------|\n",
        "| A  | s    | h    | h    | F    | N    |\n",
        "| B  | s    | h    | h    | T    | N    |\n",
        "| C  | o    | h    | h    | F    | Y    |\n",
        "| D  | r    | m    | h    | F    | Y    |\n",
        "| E  | r    | c    | n    | F    | Y    |\n",
        "| F  | r    | c    | n    | T    | N    |"
      ],
      "metadata": {
        "id": "NNtg-CiQ-qAz"
      }
    },
    {
      "cell_type": "markdown",
      "source": [
        "#### (i). Which of `Humi=h` and `Wind=T` has the greatest Pointwise Mutual Information for the class Y? What about N?\n",
        "\n",
        "Remember, for binary attributes: $PMI(A,C) = log_2\\frac{P(A \\cap C)}{P(A)P(C)}$\n",
        "\n",
        "So: \n",
        "- $PMI(Humi=h, Play=Y) = log_2\\frac{2/6}{4/6 \\times 3/6} = log_2 1 = 0 $\n",
        "- $PMI(Wind=T, Play=Y) = log_2\\frac{0}{2/6 \\times 3/6} = log_2 0 = -∞ $\n",
        "\n",
        "With `PLAY=T`, `Wind` is (perfectly) negatively correlated, whereas `Humi` is (perfectly) uncorrelated."
      ],
      "metadata": {
        "id": "NSvutFvY-ydj"
      }
    },
    {
      "cell_type": "markdown",
      "source": [
        "#### (ii). Which of the attributes has the greatest Mutual Information for the class, as a whole?\n",
        "\n",
        "MI formula: $MI(X,C) = \\sum_{x,c} P(x,c)PMI(x,c)$, where $0\\times log(0)=0$\n",
        "\n",
        "$MI(Outl) \\\\= \\sum_{x \\in \\{s,o,r\\},\\; c \\in \\{Y,N\\}} P(x,c)PMI(x,c) \\\\= \\sum_{x \\in \\{s,o,r\\},\\; c \\in \\{Y,N\\}} P(x,c) log_2\\frac{P(x,c)}{P(x)P(c)} = ... = 0.541 $\n",
        "\n",
        "Similar way, you will get:\n",
        "- MI(Temp) = 0.11\n",
        "- MI(Humi) = 0\n",
        "- MI(Wind) = 0.459"
      ],
      "metadata": {
        "id": "uj-98vAb-_pv"
      }
    },
    {
      "cell_type": "markdown",
      "source": [
        "### 2. How is Logistic Regression similar to Naive Bayes and how is it different? In what circumstances would the former be preferable, and in what circumstances would the latter?\n",
        "\n",
        "Similarity:\n",
        "- Supervised Classifiers\n",
        "- Attempt to predict using probability (Maximum Likelihood Estimation - MLE)\n",
        "\n",
        "Dissimilarity:\n",
        "- Conditional probability P(y|x): \n",
        "  - NB estimate with Bayes rule and independence assumption.\n",
        "  - LR directly model, maximise through optimization.\n",
        "- Generative/Discrimiative (You'll know more in GANs - Week 12):\n",
        "  - NB tries to learn overall how a class looks like.\n",
        "  - LR only tries to distinguish between classes.\n",
        "\n",
        "Preference:\n",
        "- LR: better performance due to no independence assumption. But more complex.\n",
        "- NB: simpler, quicker"
      ],
      "metadata": {
        "id": "y4K8hxep_FEG"
      }
    },
    {
      "cell_type": "markdown",
      "source": [
        "### 3. What is the difference between \"bias\" and “variance”?\n",
        "- Bias: systematically produce same errors\n",
        "- Variance: produce different results under the same training data characteristics, showing inconsistencies\n",
        "\n",
        "#### (i). Why is a high bias, low variance classifier undesirable?\n",
        "It will repeat the same mistakes all the time.\n",
        "\n",
        "#### (ii). Why is a low bias, high variance classifier (usually) undesirable?\n",
        "- Hard to be certain about the true performance\n",
        "- Tend to change decisions much easier upon alteration of training data\n"
      ],
      "metadata": {
        "id": "bUUUU58B_Lgv"
      }
    },
    {
      "cell_type": "markdown",
      "source": [
        "### 4. Describe how validation set, and cross-validation can help reduce overfitting?\n",
        "\n",
        "- Training accuracy is not a good indicator of performance on unseen data.\n",
        "- Can take out some of the data to use for validation.\n",
        "- One-time partition results may be noisy or biased, so cross validation will be better!"
      ],
      "metadata": {
        "id": "xcZBwQNW_Sdc"
      }
    },
    {
      "cell_type": "markdown",
      "source": [
        "### 5. Why ensembling reduces model variance?\n",
        "\n",
        "Remember your stats: with $Z$ being random variable, $Var(\\frac{1}{N}\\sum_i Z_i) = \\frac{1}{N} Var(Z_i)$\n",
        "\n",
        "So variance will decrease when several models are averaged. But we only have 1 training data ▶ Ensemble time!"
      ],
      "metadata": {
        "id": "ACsfsrSk_VfX"
      }
    },
    {
      "cell_type": "markdown",
      "source": [
        "### 6. Select the most appropriate term from the `???` in the test above.\n",
        "> Suppose you are given a dataset generate based on the following model $ y = \\beta_0 + \\beta_1 x + \\beta_2 x^2 + \\beta_3 x^3$. You intend to fit a regression model to this data. If your regression model involves polynomial term up to $x^2$, it may have `???` bias and `???` variance. \n",
        "\n",
        "Hint: `???` is either one of 'high' or 'low'\n",
        "\n",
        "**Answer**: Your model is underfitting ▶ it may have `high` bias and `low` variance"
      ],
      "metadata": {
        "id": "rzQs8nFo_YD0"
      }
    },
    {
      "cell_type": "markdown",
      "source": [
        "### 7. Explain the difference between “evaluation bias” and “model bias”.\n",
        "\n",
        "Model bias:\n",
        "- Wrong results due to model (architecture, feature selection, assumptions) ▶ Likely to underfit\n",
        "\n",
        "Evaluation bias:\n",
        "- Systematic error during evaluation causing consistent error when estimating model performance, due to the evaluation metric used (choice, sampling bias, assumptions) ▶ Likely to have good performance when training but bad when testing"
      ],
      "metadata": {
        "id": "cMCLNtcE_g2b"
      }
    },
    {
      "cell_type": "markdown",
      "source": [
        "### 8. During training process, your model shows significantly different performance across different training sets. \n",
        "\n",
        "#### (a) What can be the reason? \n",
        "Overfitting, high variance\n",
        "\n",
        "#### (b) How can we solve the issue?\n",
        "- More data\n",
        "- Reduce features\n",
        "- Regularisation\n",
        "- Remove noise if possible"
      ],
      "metadata": {
        "id": "R-Exk2it_kdw"
      }
    },
    {
      "cell_type": "markdown",
      "metadata": {
        "id": "1lEFVdHcWzPn"
      },
      "source": [
        "---\n",
        "## Coding Exercises\n",
        "\n",
        "Today, we are talking about feature selection and text processing using in `scikit learn`. \n",
        "\n",
        "Remeber you can always use the [Scikit Learn API](https://scikit-learn.org/stable/modules/classes.html#) for further exampes and explanation.\n",
        "\n",
        "What you may want to look at for the Assignment:\n",
        "- How `CountVectorizer()` works\n",
        "- `sklearn` Feature Selection\n"
      ]
    },
    {
      "cell_type": "markdown",
      "metadata": {
        "id": "kMIA_hfl1w2H"
      },
      "source": [
        "Today, we are talking about feature selection and using Scikit-learn in-built text dataset, the “20 newsgroups corpus”, which contains a number of documents classified with a topic, based on the newsgroup in which it was posted. \n",
        "The <a href=https://scikit-learn.org/stable/modules/generated/sklearn.datasets.fetch_20newsgroups.html#sklearn.datasets.fetch_20newsgroups> \"`sklearn.datasets.fetch_20newsgroups`\"</a> function is a data fetching / caching functions that downloads the data archive from the original <a href=\"http://people.csail.mit.edu/jrennie/20Newsgroups/\"> 20 newsgroups website</a>, extracts the archive contents in the `~/scikit_learn_data/20news_home` folder and calls the <a href=\"https://scikit-learn.org/stable/modules/generated/sklearn.datasets.load_files.html#sklearn.datasets.load_files\"> `sklearn.datasets.load_files` </a> on either the training or testing set folder, or both of them:"
      ]
    },
    {
      "cell_type": "code",
      "execution_count": null,
      "metadata": {
        "colab": {
          "base_uri": "https://localhost:8080/"
        },
        "id": "rzOj9wofWzPp",
        "outputId": "a62d59bc-0c5d-470c-9646-32ae27728e53"
      },
      "outputs": [
        {
          "output_type": "stream",
          "name": "stdout",
          "text": [
            "alt.atheism\n",
            "comp.graphics\n",
            "comp.os.ms-windows.misc\n",
            "comp.sys.ibm.pc.hardware\n",
            "comp.sys.mac.hardware\n",
            "comp.windows.x\n",
            "misc.forsale\n",
            "rec.autos\n",
            "rec.motorcycles\n",
            "rec.sport.baseball\n",
            "rec.sport.hockey\n",
            "sci.crypt\n",
            "sci.electronics\n",
            "sci.med\n",
            "sci.space\n",
            "soc.religion.christian\n",
            "talk.politics.guns\n",
            "talk.politics.mideast\n",
            "talk.politics.misc\n",
            "talk.religion.misc\n"
          ]
        }
      ],
      "source": [
        "from sklearn.datasets import fetch_20newsgroups\n",
        "import numpy as np\n",
        "from sklearn.linear_model import LogisticRegression\n",
        "from sklearn.model_selection import train_test_split\n",
        "\n",
        "print('\\n'.join([n for n in fetch_20newsgroups(subset='train').target_names]))"
      ]
    },
    {
      "cell_type": "markdown",
      "metadata": {
        "id": "LMS2vb5g1w2T"
      },
      "source": [
        "## Exercise 1. \n",
        "Choose a couple of newsgroups that you think it would be interesting to discriminate between, like `rec.autos` and `rec.motorcycles`.\n",
        "\n",
        "We will use `alt.atheism` and `talk.religion.misc` as an example."
      ]
    },
    {
      "cell_type": "code",
      "execution_count": null,
      "metadata": {
        "colab": {
          "base_uri": "https://localhost:8080/"
        },
        "id": "URNxPCnUWzPr",
        "outputId": "0dd50eb7-7850-4402-a4cb-42c4499484c4"
      },
      "outputs": [
        {
          "output_type": "stream",
          "name": "stdout",
          "text": [
            "['DESCR', 'data', 'filenames', 'target', 'target_names']\n"
          ]
        }
      ],
      "source": [
        "categories = ['alt.atheism','talk.religion.misc']\n",
        "\n",
        "data_train = fetch_20newsgroups(subset='train', categories=categories,\n",
        "shuffle=True, random_state=30027)\n",
        "data_test = fetch_20newsgroups(subset='test', categories=categories,\n",
        "shuffle=True, random_state=30027)\n",
        "\n",
        "X_train_txt = data_train.data\n",
        "y_train = data_train.target\n",
        "X_test_txt = data_test.data\n",
        "y_test = data_test.target\n",
        "\n",
        "print(dir(data_train))"
      ]
    },
    {
      "cell_type": "markdown",
      "metadata": {
        "id": "wGT1bNaE1w2W"
      },
      "source": [
        "Examine a couple of documents, by referencing the list ( `X_train[0]` ). Can you accurately predict the class ( `y_train[0]` ) based on the text alone?"
      ]
    },
    {
      "cell_type": "code",
      "execution_count": null,
      "metadata": {
        "colab": {
          "base_uri": "https://localhost:8080/"
        },
        "id": "Pt6A-LFkWzPt",
        "outputId": "3e5172e9-6cc9-4312-d80c-c79edf7e0a95"
      },
      "outputs": [
        {
          "output_type": "stream",
          "name": "stdout",
          "text": [
            "From: acooper@mac.cc.macalstr.edu\n",
            "Subject: Re: Where are they now?\n",
            "Organization: Macalester College\n",
            "Lines: 38\n",
            "\n",
            "In article <1qi156INNf9n@senator-bedfellow.MIT.EDU>, tcbruno@athena.mit.edu (Tom Bruno) writes:\n",
            "> \n",
            "> Wow.  Leave your terminal for a few months and everyone you remember goes\n",
            "> away-- how depressing.  Actually, there are a few familiar faces out there,\n",
            "> counting Bob and Kent, but I don't seem to recognize anyone else.  Has anyone\n",
            "> heard from Graham Matthews recently, or has he gotten his degree and sailed\n",
            "> for Greener Pastures (tm)?  \n",
            "> \n",
            "> Which brings me to the point of my posting.  How many people out there have \n",
            "> been around alt.atheism since 1990?  I've done my damnedest to stay on top of\n",
            "> the newsgroup, but when you fall behind, you REALLY fall behind (it's still not\n",
            "> as bad as rec.arts.startrek used to be, but I digress).  Has anyone tried to\n",
            "> keep up with the deluge?  Inquiring minds want to know!  Also-- does anyone\n",
            "> keep track of where the more infamous posters to alt.atheism end up, once they\n",
            "> leave the newsgroup?  Just curious, I guess.\n",
            "> \n",
            "> cheers,\n",
            "> tom bruno\n",
            "\n",
            "\n",
            "I am one of those people who always willl have unlimited stores of unfounded\n",
            "respect for people who have been on newsgroups/mailing lists longer than I\n",
            "have, so you certainly have my sympathy Tom.  I have only been semi-regularly\n",
            "posting (it is TOUGHto keep up) since this February, but I have been reading\n",
            "and following the threads since last August: my school's newsreader was down\n",
            "for months and our incompetent computing services never bothered to find a new\n",
            "feed site, so it wasn't accepting outgoing postings.  I don't think anyone\n",
            "keeps track of where other posters go: it's that old love 'em and leave 'em\n",
            "Internet for you again...\n",
            "\n",
            "\n",
            "best regards,\n",
            "\n",
            "********************************************************************************\n",
            "* Adam John Cooper\t\t\"Verily, often have I laughed at the weaklings *\n",
            "*\t\t\t\t   who thought themselves good simply because  *\n",
            "* acooper@macalstr.edu\t\t\t\tthey had no claws.\"\t       *\n",
            "********************************************************************************\n",
            "\n",
            "label is 0 = alt.atheism\n"
          ]
        }
      ],
      "source": [
        "print(X_train_txt[0])\n",
        "print(f'label is {y_train[0]} = {data_train.target_names[y_train[0]]}')"
      ]
    },
    {
      "cell_type": "markdown",
      "source": [
        "Wanna try something?"
      ],
      "metadata": {
        "id": "Zx6zx3c75IaI"
      }
    },
    {
      "cell_type": "code",
      "source": [
        "import matplotlib.pyplot as plt\n",
        "import wordcloud\n",
        "\n",
        "wc = wordcloud.WordCloud().generate(X_train_txt[0])\n",
        "plt.imshow(wc, interpolation='bilinear')\n",
        "plt.axis(\"off\")"
      ],
      "metadata": {
        "colab": {
          "base_uri": "https://localhost:8080/",
          "height": 215
        },
        "id": "jHveEx1Or-3O",
        "outputId": "e9c17b9e-bd6f-4b5c-af43-6a7fe83a8a78"
      },
      "execution_count": null,
      "outputs": [
        {
          "output_type": "execute_result",
          "data": {
            "text/plain": [
              "(-0.5, 399.5, 199.5, -0.5)"
            ]
          },
          "metadata": {},
          "execution_count": 24
        },
        {
          "output_type": "display_data",
          "data": {
            "text/plain": [
              "<Figure size 432x288 with 1 Axes>"
            ],
            "image/png": "[encoded data removed]"
          },
          "metadata": {
            "needs_background": "light"
          }
        }
      ]
    },
    {
      "cell_type": "markdown",
      "metadata": {
        "id": "BweySqoS1w2a"
      },
      "source": [
        "## Exercise 2\n",
        "The document is currently a string, which scikit-learn can’t use directly. In order to feed predictive models with the text data, one first need to turn the text into vectors of numerical values suitable for statistical analysis. This can be achieved with the utilities of the `sklearn.feature_extraction.text`"
      ]
    },
    {
      "cell_type": "markdown",
      "metadata": {
        "id": "0O6L9ggP1w2c"
      },
      "source": [
        "### Exercise 2.(a)\n",
        "The class `DictVectorizer` can be used to convert feature arrays represented as lists of standard Python dict objects to the NumPy/Pandas representation used by scikit-learn estimators.\n",
        "\n",
        "`DictVectorizer` implements what is called one-of-K or “one-hot” coding for categorical. Recall that, in this method we replace each categorical attribute having m values with m binary attributes\n",
        "\n",
        "Refresh your knowledge about one-hot encoding and other possible discritisation methods in week 3 and extract the words (or tokens) in the text and count them by using `CountVectorizer` to build a dictionary which associates each word (token) in a text document with its frequency in that document."
      ]
    },
    {
      "cell_type": "code",
      "execution_count": null,
      "metadata": {
        "id": "Xgl-SXqv1w2d"
      },
      "outputs": [],
      "source": [
        "from sklearn.feature_extraction.text import CountVectorizer\n",
        "vectoriser = CountVectorizer()\n",
        "X_train = pd.DataFrame(vectoriser.fit_transform(X_train_txt).todense())\n",
        "X_test = pd.DataFrame(vectoriser.transform(X_test_txt).todense())"
      ]
    },
    {
      "cell_type": "markdown",
      "metadata": {
        "id": "sR5ppjB11w2e"
      },
      "source": [
        "#### Question\n",
        "\n",
        "what is the difference between `transform` and `fit_transform` function?\n",
        "\n",
        "#### Answer\n",
        "\n",
        "`fit_transform()` is used to learn the vocabulary of the text data (i.e., the set of unique words that appear in the data) and transform the text data into a matrix of numerical features based on this vocabulary. This vocabulary is stored in the vectorizer's internal state and can be used to transform new text data with the same vocabulary. \n",
        "\n",
        "On the other hand, `transform()` is used to apply the vectorizer that has already been fit to new text data. The vocabulary is already learned from the training data using fit_transform(), and transform() uses this vocabulary to transform new text data into numerical features based on the learned vocabulary. "
      ]
    },
    {
      "cell_type": "code",
      "source": [
        "# Does the working mechanism (no appearance = 0 count) remind you of something familiar?\n",
        "from collections import defaultdict, Counter\n",
        "Counter([420,420,420,420])[69]"
      ],
      "metadata": {
        "colab": {
          "base_uri": "https://localhost:8080/"
        },
        "id": "3eoDMF1xu7yX",
        "outputId": "b26d747f-fb04-44de-af92-6da9026b65c7"
      },
      "execution_count": null,
      "outputs": [
        {
          "output_type": "execute_result",
          "data": {
            "text/plain": [
              "0"
            ]
          },
          "metadata": {},
          "execution_count": 27
        }
      ]
    },
    {
      "cell_type": "markdown",
      "metadata": {
        "id": "JVHfWTcW1w2f"
      },
      "source": [
        "### Exercise 2.(b)\n",
        "After “vectorizing” the data, what is the shape of `X_train` and `X_test`?\n",
        "\n",
        "```python\n",
        "print(\"Number of instances in X_train \",..., \"   Number of features in X_train\", ..., \n",
        "      \"\\n Number of instances in X_test\",..., \"  Number of features in X_test\", ...)\n",
        "```"
      ]
    },
    {
      "cell_type": "code",
      "execution_count": null,
      "metadata": {
        "id": "GXAxyIJD1w2g",
        "outputId": "718f6d22-0fc4-487a-da2e-6de6d15ef22b"
      },
      "outputs": [
        {
          "name": "stdout",
          "output_type": "stream",
          "text": [
            "Number of instances in X_train  857    Number of features in X_train 18089 \n",
            "Number of instances in X_test 570      Number of features in X_test 18089\n"
          ]
        }
      ],
      "source": [
        "print(\"Number of instances in X_train \",X_train.shape[0], \"   Number of features in X_train\", X_train.shape[1], \n",
        "      \"\\nNumber of instances in X_test\",X_test.shape[0], \"     Number of features in X_test\", X_test.shape[1])"
      ]
    },
    {
      "cell_type": "markdown",
      "metadata": {
        "id": "7eWCnwx31w2i"
      },
      "source": [
        "#### Exercise 2.(c)\n",
        "Are there any documents in `X_test` whose values are all 0? Why might this happen?"
      ]
    },
    {
      "cell_type": "code",
      "execution_count": null,
      "metadata": {
        "colab": {
          "base_uri": "https://localhost:8080/",
          "height": 35
        },
        "id": "qP4kUD-7WzPy",
        "outputId": "98c5c2d9-2f36-407a-9f6d-c119732de032"
      },
      "outputs": [
        {
          "output_type": "execute_result",
          "data": {
            "text/plain": [
              "'No'"
            ],
            "application/vnd.google.colaboratory.intrinsic+json": {
              "type": "string"
            }
          },
          "metadata": {},
          "execution_count": 28
        }
      ],
      "source": [
        "\"Yes\" if (X_test.sum(axis=1)==0).any() else \"No\""
      ]
    },
    {
      "cell_type": "markdown",
      "metadata": {
        "id": "4CcobCxJ1w2k"
      },
      "source": [
        "*This is hypothetically possible - if every word in one of the test documents had never appeared in the training data. For long documents, this is exceedingly unlikely due to the appearance of grammatical \"words\" such as _the_, _is_, and so on.*"
      ]
    },
    {
      "cell_type": "markdown",
      "metadata": {
        "id": "-QK70afL1w2l"
      },
      "source": [
        "### Exercise 3\n",
        "Now that we have \"vectorised\" our text, we want to choose the **best** attributes.\n",
        "\n",
        "Feature Selection in `scikit-learn` can be done using `SelectKBest`.\n",
        "\n",
        "Also FYI: `SelectPercentage` is another one that works the same way!"
      ]
    },
    {
      "cell_type": "markdown",
      "metadata": {
        "id": "mrPIKAQF1w2m"
      },
      "source": [
        "#### Exercise 3.(a)\n",
        "Find out what the best 10 features were for your dataset, according to $\\chi^2$ ."
      ]
    },
    {
      "cell_type": "code",
      "execution_count": null,
      "metadata": {
        "id": "_0fkJolj1w2m",
        "outputId": "f89e1f91-0854-414d-8443-2f19bfcbe82b"
      },
      "outputs": [
        {
          "name": "stdout",
          "output_type": "stream",
          "text": [
            "atheism\n",
            "atheist\n",
            "atheists\n",
            "brian\n",
            "caltech\n",
            "christ\n",
            "islamic\n",
            "jesus\n",
            "keith\n",
            "ra\n"
          ]
        }
      ],
      "source": [
        "from sklearn.feature_selection import SelectKBest, chi2\n",
        "\n",
        "x2 = SelectKBest(chi2, k=10)\n",
        "\n",
        "X_train_x2 = x2.fit_transform(X_train,y_train)\n",
        "X_test_x2 = x2.transform(X_test)\n",
        "\n",
        "for feat_num in x2.get_support(indices=True):\n",
        "    print(vectoriser.get_feature_names_out()[feat_num])"
      ]
    },
    {
      "cell_type": "markdown",
      "metadata": {
        "id": "PKQnhij21w2n"
      },
      "source": [
        "Do they correspond to your intuitions? Is there any evidence of the biases inherent in $\\chi^2$? What if you look at deeper than 10?"
      ]
    },
    {
      "cell_type": "markdown",
      "metadata": {
        "id": "zP3OEUbH1w2o"
      },
      "source": [
        "**Answer**\n",
        "\n",
        "*These seem like words that could be relevant to trying to distinguish between a religious discussion vs an atheist discuss.*\n",
        "\n",
        "*Perhaps surprising are words like _brian_, _keith_, and _caltech_, which are indicative of people who post to this forum (and perhaps not of the problem more generally). It's difficult to determine the rare/common distinction here, but it becomes a little clearer as we look further down the ranking.*"
      ]
    },
    {
      "cell_type": "markdown",
      "metadata": {
        "id": "y3RuJl5X1w2p"
      },
      "source": [
        "#### Exercise 3.(b)\n",
        "Do the same thing for Mutual Information, instead of $\\chi^2$ (note that you want the classification version, not the regression version).\n",
        "\n",
        "\n",
        "```python\n",
        "from sklearn.feature_selection import mutual_info_classif\n",
        "\n",
        "mi = SelectKBest(score_func=..., k=10)\n",
        "X_train_mi = ...\n",
        "X_test_mi = ...\n",
        "```"
      ]
    },
    {
      "cell_type": "code",
      "execution_count": null,
      "metadata": {
        "id": "lV1oKoop1w2p",
        "outputId": "77f306d4-1c32-4568-fe9b-5231b3e98a57"
      },
      "outputs": [
        {
          "name": "stdout",
          "output_type": "stream",
          "text": [
            "(570, 10) (857, 10)\n",
            "7e4\n",
            "ascertainable\n",
            "atheists\n",
            "caltech\n",
            "casteth\n",
            "cco\n",
            "exceptional\n",
            "keith\n",
            "schneider\n",
            "technology\n"
          ]
        }
      ],
      "source": [
        "from sklearn.feature_selection import mutual_info_classif\n",
        "mi = SelectKBest(score_func=mutual_info_classif, k=10)\n",
        "X_train_mi = mi.fit_transform(X_train,y_train)\n",
        "X_test_mi = mi.transform(X_test)\n",
        "\n",
        "print(X_test_mi.shape, X_train_mi.shape)\n",
        "\n",
        "for feat_num in mi.get_support(indices=True):\n",
        "    print(vectoriser.get_feature_names_out()[feat_num])"
      ]
    },
    {
      "cell_type": "markdown",
      "metadata": {
        "id": "Mq9ie0PS1w2q"
      },
      "source": [
        "**Answer**\n",
        "\n",
        "Here we see more evidence of MI choosing frequently-occuring features, such as **it**, **of** and **the**."
      ]
    },
    {
      "cell_type": "markdown",
      "metadata": {
        "id": "0SAMv3DO1w2r"
      },
      "source": [
        "### Exercise 4. \n",
        "Build a classifier on the training dataset, and evaluate its Accuracy on the test set. \n",
        "#### Exercise 4.(a) \n",
        "It’s likely that the dataset is still small enough that you can build a model on the entire feature set (after the CountVectorizer, but before the SelectKBest) without crashing your computer. How well do these models predict the test data, using all of the features?"
      ]
    },
    {
      "cell_type": "code",
      "execution_count": null,
      "metadata": {
        "id": "hg2gm5Dx1w2r",
        "outputId": "95d869dd-32a2-4d4d-a4fa-0d8d983761b8"
      },
      "outputs": [
        {
          "name": "stdout",
          "output_type": "stream",
          "text": [
            "GNB accuracy is: 0.8333333333333334\n",
            "MNB accuracy is: 0.8456140350877193\n",
            "5-nearest neighbour accuracy is: 0.6578947368421053\n",
            "Decision Tree accuracy is: 0.8210526315789474\n",
            "Logistic Regression accuracy is: 0.7964912280701755\n",
            "SVM with a cubic kernel accuracy is: 0.5719298245614035\n"
          ]
        }
      ],
      "source": [
        "from sklearn.tree import DecisionTreeClassifier\n",
        "from sklearn.neighbors import KNeighborsClassifier\n",
        "from sklearn.naive_bayes import GaussianNB, MultinomialNB\n",
        "from sklearn.metrics import accuracy_score, classification_report\n",
        "from sklearn.svm import SVC\n",
        "from sklearn.linear_model import LogisticRegression\n",
        "\n",
        "import warnings\n",
        "warnings.filterwarnings(action='ignore', category=FutureWarning)\n",
        "\n",
        "models = [GaussianNB(),\n",
        "          MultinomialNB(),\n",
        "          KNeighborsClassifier(n_neighbors=5),\n",
        "          DecisionTreeClassifier(max_depth=None,random_state=27),\n",
        "          LogisticRegression(max_iter = 1000),\n",
        "          SVC(kernel='poly', degree=3)]\n",
        "titles = ['GNB',\n",
        "          'MNB',\n",
        "          '5-nearest neighbour',\n",
        "          'Decision Tree',\n",
        "          'Logistic Regression',\n",
        "          'SVM with a cubic kernel']\n",
        "\n",
        "for title, model in zip(titles, models):\n",
        "    model.fit(X_train, y_train)\n",
        "    y_test_predict = model.predict(X_test)\n",
        "    accuracy =  accuracy_score(y_test, y_test_predict)\n",
        "    print(title, 'accuracy is:',  accuracy)"
      ]
    },
    {
      "cell_type": "markdown",
      "metadata": {
        "id": "G_GIyUbu1w2s"
      },
      "source": [
        "#### Exercise 4.(b)  \n",
        "Now let's use our selected features and see if the feature selection would benefit the performance of our classifiers."
      ]
    },
    {
      "cell_type": "markdown",
      "metadata": {
        "id": "-GO0EcMe1w2t"
      },
      "source": [
        "Try some different values for the cut-off for `SelectKBest` — is it possible to improve upon the Accuracy observed for the models which use the entire feature set? Is this more true for some learners than others? Does your choice between χ2 and Mutual Information make a difference?\n",
        "\n",
        "```python\n",
        "for k in [10,100,1000]:\n",
        "    x2 = SelectKBest(chi2, k=k)\n",
        "    x2.fit(X_train,y_train)\n",
        "    X_train_x2 = ...\n",
        "    X_test_x2 = ...\n",
        "\n",
        "\n",
        "    mi = SelectKBest(score_func=mutual_info_classif, k=k)\n",
        "    mi.fit(X_train,y_train)\n",
        "    X_train_mi = ...\n",
        "    X_test_mi = ...\n",
        "```"
      ]
    },
    {
      "cell_type": "code",
      "execution_count": null,
      "metadata": {
        "colab": {
          "base_uri": "https://localhost:8080/",
          "height": 349
        },
        "id": "fWYxCJJNWzP3",
        "outputId": "2ed75cd2-695f-4694-f24d-8fff8280fcbd"
      },
      "outputs": [
        {
          "output_type": "stream",
          "name": "stderr",
          "text": [
            "100%|██████████| 4/4 [06:07<00:00, 91.98s/it] \n"
          ]
        },
        {
          "output_type": "execute_result",
          "data": {
            "text/plain": [
              "n_features              10                            100              \\\n",
              "Criteria             Full Set      Chi2        MI  Full Set      Chi2   \n",
              "GNB                  0.833333  0.668421  0.540351  0.833333  0.726316   \n",
              "MNB                  0.845614  0.649123  0.614035  0.845614  0.740351   \n",
              "1R                   0.564912  0.564912  0.564912  0.564912  0.564912   \n",
              "5-NN                 0.657895  0.670175  0.559649  0.657895  0.622807   \n",
              "Decision Tree        0.792982  0.670175  0.584211  0.796491  0.729825   \n",
              "Logistic Regression  0.796491  0.685965  0.617544  0.796491  0.747368   \n",
              "SVM (Cubic kernel)   0.559649  0.659649  0.610526  0.559649  0.568421   \n",
              "SVM (RBF kernel)      0.57193  0.584211   0.55614   0.57193  0.578947   \n",
              "\n",
              "n_features                        1000                          10000  \\\n",
              "Criteria                   MI  Full Set      Chi2        MI  Full Set   \n",
              "GNB                  0.645614  0.833333  0.822807  0.807018  0.833333   \n",
              "MNB                  0.719298  0.845614  0.826316  0.814035  0.845614   \n",
              "1R                   0.564912  0.564912  0.564912  0.564912  0.564912   \n",
              "5-NN                 0.587719  0.657895  0.649123  0.601754  0.657895   \n",
              "Decision Tree        0.705263  0.796491  0.794737  0.785965  0.807018   \n",
              "Logistic Regression  0.719298  0.796491  0.801754  0.789474  0.796491   \n",
              "SVM (Cubic kernel)   0.563158  0.559649  0.559649  0.559649  0.559649   \n",
              "SVM (RBF kernel)     0.577193   0.57193  0.578947  0.573684   0.57193   \n",
              "\n",
              "n_features                               \n",
              "Criteria                 Chi2        MI  \n",
              "GNB                  0.824561  0.821053  \n",
              "MNB                  0.847368  0.840351  \n",
              "1R                   0.564912  0.564912  \n",
              "5-NN                 0.663158  0.654386  \n",
              "Decision Tree        0.789474  0.805263  \n",
              "Logistic Regression  0.801754  0.801754  \n",
              "SVM (Cubic kernel)   0.559649  0.559649  \n",
              "SVM (RBF kernel)     0.568421   0.57193  "
            ],
            "text/html": [
              "\n",
              "  <div id=\"df-7604e6a4-efae-4ab8-84cf-7122fecd1410\">\n",
              "    <div class=\"colab-df-container\">\n",
              "      <div>\n",
              "<style scoped>\n",
              "    .dataframe tbody tr th:only-of-type {\n",
              "        vertical-align: middle;\n",
              "    }\n",
              "\n",
              "    .dataframe tbody tr th {\n",
              "        vertical-align: top;\n",
              "    }\n",
              "\n",
              "    .dataframe thead tr th {\n",
              "        text-align: left;\n",
              "    }\n",
              "</style>\n",
              "<table border=\"1\" class=\"dataframe\">\n",
              "  <thead>\n",
              "    <tr>\n",
              "      <th>n_features</th>\n",
              "      <th colspan=\"3\" halign=\"left\">10</th>\n",
              "      <th colspan=\"3\" halign=\"left\">100</th>\n",
              "      <th colspan=\"3\" halign=\"left\">1000</th>\n",
              "      <th colspan=\"3\" halign=\"left\">10000</th>\n",
              "    </tr>\n",
              "    <tr>\n",
              "      <th>Criteria</th>\n",
              "      <th>Full Set</th>\n",
              "      <th>Chi2</th>\n",
              "      <th>MI</th>\n",
              "      <th>Full Set</th>\n",
              "      <th>Chi2</th>\n",
              "      <th>MI</th>\n",
              "      <th>Full Set</th>\n",
              "      <th>Chi2</th>\n",
              "      <th>MI</th>\n",
              "      <th>Full Set</th>\n",
              "      <th>Chi2</th>\n",
              "      <th>MI</th>\n",
              "    </tr>\n",
              "  </thead>\n",
              "  <tbody>\n",
              "    <tr>\n",
              "      <th>GNB</th>\n",
              "      <td>0.833333</td>\n",
              "      <td>0.668421</td>\n",
              "      <td>0.540351</td>\n",
              "      <td>0.833333</td>\n",
              "      <td>0.726316</td>\n",
              "      <td>0.645614</td>\n",
              "      <td>0.833333</td>\n",
              "      <td>0.822807</td>\n",
              "      <td>0.807018</td>\n",
              "      <td>0.833333</td>\n",
              "      <td>0.824561</td>\n",
              "      <td>0.821053</td>\n",
              "    </tr>\n",
              "    <tr>\n",
              "      <th>MNB</th>\n",
              "      <td>0.845614</td>\n",
              "      <td>0.649123</td>\n",
              "      <td>0.614035</td>\n",
              "      <td>0.845614</td>\n",
              "      <td>0.740351</td>\n",
              "      <td>0.719298</td>\n",
              "      <td>0.845614</td>\n",
              "      <td>0.826316</td>\n",
              "      <td>0.814035</td>\n",
              "      <td>0.845614</td>\n",
              "      <td>0.847368</td>\n",
              "      <td>0.840351</td>\n",
              "    </tr>\n",
              "    <tr>\n",
              "      <th>1R</th>\n",
              "      <td>0.564912</td>\n",
              "      <td>0.564912</td>\n",
              "      <td>0.564912</td>\n",
              "      <td>0.564912</td>\n",
              "      <td>0.564912</td>\n",
              "      <td>0.564912</td>\n",
              "      <td>0.564912</td>\n",
              "      <td>0.564912</td>\n",
              "      <td>0.564912</td>\n",
              "      <td>0.564912</td>\n",
              "      <td>0.564912</td>\n",
              "      <td>0.564912</td>\n",
              "    </tr>\n",
              "    <tr>\n",
              "      <th>5-NN</th>\n",
              "      <td>0.657895</td>\n",
              "      <td>0.670175</td>\n",
              "      <td>0.559649</td>\n",
              "      <td>0.657895</td>\n",
              "      <td>0.622807</td>\n",
              "      <td>0.587719</td>\n",
              "      <td>0.657895</td>\n",
              "      <td>0.649123</td>\n",
              "      <td>0.601754</td>\n",
              "      <td>0.657895</td>\n",
              "      <td>0.663158</td>\n",
              "      <td>0.654386</td>\n",
              "    </tr>\n",
              "    <tr>\n",
              "      <th>Decision Tree</th>\n",
              "      <td>0.792982</td>\n",
              "      <td>0.670175</td>\n",
              "      <td>0.584211</td>\n",
              "      <td>0.796491</td>\n",
              "      <td>0.729825</td>\n",
              "      <td>0.705263</td>\n",
              "      <td>0.796491</td>\n",
              "      <td>0.794737</td>\n",
              "      <td>0.785965</td>\n",
              "      <td>0.807018</td>\n",
              "      <td>0.789474</td>\n",
              "      <td>0.805263</td>\n",
              "    </tr>\n",
              "    <tr>\n",
              "      <th>Logistic Regression</th>\n",
              "      <td>0.796491</td>\n",
              "      <td>0.685965</td>\n",
              "      <td>0.617544</td>\n",
              "      <td>0.796491</td>\n",
              "      <td>0.747368</td>\n",
              "      <td>0.719298</td>\n",
              "      <td>0.796491</td>\n",
              "      <td>0.801754</td>\n",
              "      <td>0.789474</td>\n",
              "      <td>0.796491</td>\n",
              "      <td>0.801754</td>\n",
              "      <td>0.801754</td>\n",
              "    </tr>\n",
              "    <tr>\n",
              "      <th>SVM (Cubic kernel)</th>\n",
              "      <td>0.559649</td>\n",
              "      <td>0.659649</td>\n",
              "      <td>0.610526</td>\n",
              "      <td>0.559649</td>\n",
              "      <td>0.568421</td>\n",
              "      <td>0.563158</td>\n",
              "      <td>0.559649</td>\n",
              "      <td>0.559649</td>\n",
              "      <td>0.559649</td>\n",
              "      <td>0.559649</td>\n",
              "      <td>0.559649</td>\n",
              "      <td>0.559649</td>\n",
              "    </tr>\n",
              "    <tr>\n",
              "      <th>SVM (RBF kernel)</th>\n",
              "      <td>0.57193</td>\n",
              "      <td>0.584211</td>\n",
              "      <td>0.55614</td>\n",
              "      <td>0.57193</td>\n",
              "      <td>0.578947</td>\n",
              "      <td>0.577193</td>\n",
              "      <td>0.57193</td>\n",
              "      <td>0.578947</td>\n",
              "      <td>0.573684</td>\n",
              "      <td>0.57193</td>\n",
              "      <td>0.568421</td>\n",
              "      <td>0.57193</td>\n",
              "    </tr>\n",
              "  </tbody>\n",
              "</table>\n",
              "</div>\n",
              "      <button class=\"colab-df-convert\" onclick=\"convertToInteractive('df-7604e6a4-efae-4ab8-84cf-7122fecd1410')\"\n",
              "              title=\"Convert this dataframe to an interactive table.\"\n",
              "              style=\"display:none;\">\n",
              "        \n",
              "  <svg xmlns=\"http://www.w3.org/2000/svg\" height=\"24px\"viewBox=\"0 0 24 24\"\n",
              "       width=\"24px\">\n",
              "    <path d=\"M0 0h24v24H0V0z\" fill=\"none\"/>\n",
              "    <path d=\"M18.56 5.44l.94 2.06.94-2.06 2.06-.94-2.06-.94-.94-2.06-.94 2.06-2.06.94zm-11 1L8.5 8.5l.94-2.06 2.06-.94-2.06-.94L8.5 2.5l-.94 2.06-2.06.94zm10 10l.94 2.06.94-2.06 2.06-.94-2.06-.94-.94-2.06-.94 2.06-2.06.94z\"/><path d=\"M17.41 7.96l-1.37-1.37c-.4-.4-.92-.59-1.43-.59-.52 0-1.04.2-1.43.59L10.3 9.45l-7.72 7.72c-.78.78-.78 2.05 0 2.83L4 21.41c.39.39.9.59 1.41.59.51 0 1.02-.2 1.41-.59l7.78-7.78 2.81-2.81c.8-.78.8-2.07 0-2.86zM5.41 20L4 18.59l7.72-7.72 1.47 1.35L5.41 20z\"/>\n",
              "  </svg>\n",
              "      </button>\n",
              "      \n",
              "  <style>\n",
              "    .colab-df-container {\n",
              "      display:flex;\n",
              "      flex-wrap:wrap;\n",
              "      gap: 12px;\n",
              "    }\n",
              "\n",
              "    .colab-df-convert {\n",
              "      background-color: #E8F0FE;\n",
              "      border: none;\n",
              "      border-radius: 50%;\n",
              "      cursor: pointer;\n",
              "      display: none;\n",
              "      fill: #1967D2;\n",
              "      height: 32px;\n",
              "      padding: 0 0 0 0;\n",
              "      width: 32px;\n",
              "    }\n",
              "\n",
              "    .colab-df-convert:hover {\n",
              "      background-color: #E2EBFA;\n",
              "      box-shadow: 0px 1px 2px rgba(60, 64, 67, 0.3), 0px 1px 3px 1px rgba(60, 64, 67, 0.15);\n",
              "      fill: #174EA6;\n",
              "    }\n",
              "\n",
              "    [theme=dark] .colab-df-convert {\n",
              "      background-color: #3B4455;\n",
              "      fill: #D2E3FC;\n",
              "    }\n",
              "\n",
              "    [theme=dark] .colab-df-convert:hover {\n",
              "      background-color: #434B5C;\n",
              "      box-shadow: 0px 1px 3px 1px rgba(0, 0, 0, 0.15);\n",
              "      filter: drop-shadow(0px 1px 2px rgba(0, 0, 0, 0.3));\n",
              "      fill: #FFFFFF;\n",
              "    }\n",
              "  </style>\n",
              "\n",
              "      <script>\n",
              "        const buttonEl =\n",
              "          document.querySelector('#df-7604e6a4-efae-4ab8-84cf-7122fecd1410 button.colab-df-convert');\n",
              "        buttonEl.style.display =\n",
              "          google.colab.kernel.accessAllowed ? 'block' : 'none';\n",
              "\n",
              "        async function convertToInteractive(key) {\n",
              "          const element = document.querySelector('#df-7604e6a4-efae-4ab8-84cf-7122fecd1410');\n",
              "          const dataTable =\n",
              "            await google.colab.kernel.invokeFunction('convertToInteractive',\n",
              "                                                     [key], {});\n",
              "          if (!dataTable) return;\n",
              "\n",
              "          const docLinkHtml = 'Like what you see? Visit the ' +\n",
              "            '<a target=\"_blank\" href=https://colab.research.google.com/notebooks/data_table.ipynb>data table notebook</a>'\n",
              "            + ' to learn more about interactive tables.';\n",
              "          element.innerHTML = '';\n",
              "          dataTable['output_type'] = 'display_data';\n",
              "          await google.colab.output.renderOutput(dataTable, element);\n",
              "          const docLink = document.createElement('div');\n",
              "          docLink.innerHTML = docLinkHtml;\n",
              "          element.appendChild(docLink);\n",
              "        }\n",
              "      </script>\n",
              "    </div>\n",
              "  </div>\n",
              "  "
            ]
          },
          "metadata": {},
          "execution_count": 41
        }
      ],
      "source": [
        "from sklearn.tree import DecisionTreeClassifier\n",
        "from sklearn.neighbors import KNeighborsClassifier\n",
        "from sklearn.naive_bayes import GaussianNB, MultinomialNB\n",
        "from sklearn.metrics import accuracy_score, classification_report\n",
        "from sklearn.svm import SVC\n",
        "from sklearn.linear_model import LogisticRegression\n",
        "import pandas as pd\n",
        "from tqdm import tqdm\n",
        "\n",
        "import warnings\n",
        "warnings.filterwarnings('ignore')\n",
        "\n",
        "\n",
        "models = [GaussianNB(),\n",
        "          MultinomialNB(),\n",
        "          DecisionTreeClassifier(max_depth=1),\n",
        "          KNeighborsClassifier(n_neighbors=5),\n",
        "          DecisionTreeClassifier(max_depth=None),\n",
        "          LogisticRegression(max_iter = 1000),\n",
        "          SVC(kernel='rbf', gamma=0.7),\n",
        "          SVC(kernel='poly', degree=3)]\n",
        "titles = ['GNB',\n",
        "          'MNB',\n",
        "          '1R',\n",
        "          '5-NN',\n",
        "          'Decision Tree',\n",
        "          'Logistic Regression',\n",
        "          'SVM (Cubic kernel)',\n",
        "          'SVM (RBF kernel)']\n",
        "\n",
        "X_names = ['Full Set', 'Chi2', 'MI']\n",
        "ks = [10,100,1000,10000]\n",
        "\n",
        "df = pd.DataFrame(index=titles,\n",
        "                  columns=pd.MultiIndex.from_product([ks,X_names],\n",
        "                                                     names=['n_features','Criteria']))\n",
        "for k in tqdm(ks):\n",
        "    #print(f'\\n' + '-'*30 + f'K = {k}' + '-'*30)\n",
        "    x2 = SelectKBest(chi2, k=k)\n",
        "    x2.fit(X_train,y_train)\n",
        "    X_train_x2 = x2.transform(X_train)\n",
        "    X_test_x2 = x2.transform(X_test)\n",
        "\n",
        "    mi = SelectKBest(score_func=mutual_info_classif, k=k)\n",
        "    mi.fit(X_train,y_train)\n",
        "    X_train_mi = mi.transform(X_train)\n",
        "    X_test_mi = mi.transform(X_test)\n",
        "\n",
        "    Xs = [(X_train, X_test), (X_train_x2, X_test_x2), (X_train_mi, X_test_mi)]\n",
        "    for title, model in zip(titles, models):\n",
        "        #print('\\n=========',title, '(with k=',k,'features): ')\n",
        "        for X_name, X in zip(X_names, Xs):\n",
        "            X_train_t, X_test_t = X\n",
        "            model.fit(X_train_t.todense(), y_train)\n",
        "            y_test_predict = model.predict(X_test_t.todense())\n",
        "            accuracy =  accuracy_score(y_test, y_test_predict)\n",
        "            #print(X_name, 'accuracy is:',  accuracy)  \n",
        "            df.loc[title,(k,X_name)] = accuracy\n",
        "df"
      ]
    },
    {
      "cell_type": "markdown",
      "metadata": {
        "id": "nDGELNBa1w2w"
      },
      "source": [
        "### Exercise 5\n",
        "\n",
        "Other than Mutual Information and χ2 we learnt about wrapping methods for feature selection. Wrapping methods for feature selection involve selecting subsets of features based on how well they perform when used with a particular machine learning algorithm. The idea behind wrapping methods is to train a machine learning model on different subsets of features, and evaluate their performance using cross-validation or other methods.\n",
        "\n",
        "In order to make the wrapper method feasible we need to rediuce the size of the features. Let's select a subset of features using the TFIDF (term frequency inverse document frequency) approach. Identify the 50 most informative features for your data set.\n",
        "\n",
        "- `stop_words='english'` removes all function words (articles, pronounds, ...) from the vocabulary before TFIDF filtering. Test what happens if you sent this feature to **False**\n",
        "- Experiment with different values for max_features"
      ]
    },
    {
      "cell_type": "code",
      "execution_count": null,
      "metadata": {
        "id": "FRpTh89J1w2x",
        "outputId": "bdbc646e-3a17-4147-9ee1-45836d3fa7f8"
      },
      "outputs": [
        {
          "name": "stdout",
          "output_type": "stream",
          "text": [
            "(857, 50) (570, 50)\n",
            "['argument' 'article' 'atheism' 'atheists' 'believe' 'bible' 'christian'\n",
            " 'com' 'did' 'does' 'don' 'edu' 'evidence' 'fact' 'god' 'good' 'host'\n",
            " 'islam' 'jesus' 'just' 'keith' 'know' 'law' 'life' 'like' 'lines' 'make'\n",
            " 'moral' 'morality' 'nntp' 'objective' 'organization' 'people' 'point'\n",
            " 'posting' 'really' 'religion' 'right' 'said' 'sandvik' 'say' 'subject'\n",
            " 'things' 'think' 'time' 'true' 'university' 'way' 'world' 'writes']\n"
          ]
        }
      ],
      "source": [
        "from sklearn.feature_extraction.text import TfidfVectorizer\n",
        "\n",
        "tfidf_vectorizer = TfidfVectorizer(max_features=50, stop_words='english')\n",
        "\n",
        "X_train_tfidf = tfidf_vectorizer.fit_transform(X_train_txt)\n",
        "X_test_tfidf = tfidf_vectorizer.transform(X_test_txt)\n",
        "\n",
        "print(X_train_tfidf.shape, X_test_tfidf.shape)\n",
        "print(tfidf_vectorizer.get_feature_names_out())"
      ]
    },
    {
      "cell_type": "code",
      "execution_count": null,
      "metadata": {
        "id": "WftjRuSZ1w2y",
        "outputId": "7ab72693-e059-4711-91ff-d78135c6b1c1"
      },
      "outputs": [
        {
          "name": "stdout",
          "output_type": "stream",
          "text": [
            "knn ['atheism', 'atheists', 'christian', 'did', 'good', 'islam', 'jesus', 'just', 'make', 'subject']\n",
            "nb ['argument', 'bible', 'christian', 'evidence', 'jesus', 'just', 'keith', 'objective', 'really', 'sandvik']\n"
          ]
        }
      ],
      "source": [
        "from sklearn.feature_selection import SequentialFeatureSelector\n",
        "from sklearn.neighbors import KNeighborsClassifier\n",
        "from sklearn.naive_bayes import MultinomialNB\n",
        "\n",
        "knn = KNeighborsClassifier(n_neighbors=3)\n",
        "nb = MultinomialNB()\n",
        "\n",
        "sfs_knn = SequentialFeatureSelector(knn, direction='forward', n_features_to_select=10, cv=2)\n",
        "sfs_nb = SequentialFeatureSelector(nb, direction='forward', n_features_to_select=10, cv=2)\n",
        "\n",
        "sfs_features = {}\n",
        "\n",
        "modelnames = ['knn', 'nb']\n",
        "for idx, sfs in enumerate([sfs_knn, sfs_nb]):\n",
        "    \n",
        "    X_train_sfs = sfs.fit_transform(X_train_tfidf,y_train)\n",
        "    X_test_sfs = sfs.transform(X_test_tfidf)\n",
        "    \n",
        "    sfs_features[modelnames[idx]] = [X_train_sfs, X_test_sfs]\n",
        "\n",
        "    print(modelnames[idx], [tfidf_vectorizer.get_feature_names_out()[i] for i in sfs.get_support(indices=True)])"
      ]
    }
  ],
  "metadata": {
    "kernelspec": {
      "display_name": "Python 3 (ipykernel)",
      "language": "python",
      "name": "python3"
    },
    "language_info": {
      "codemirror_mode": {
        "name": "ipython",
        "version": 3
      },
      "file_extension": ".py",
      "mimetype": "text/x-python",
      "name": "python",
      "nbconvert_exporter": "python",
      "pygments_lexer": "ipython3",
      "version": "3.9.13"
    },
    "colab": {
      "provenance": []
    }
  },
  "nbformat": 4,
  "nbformat_minor": 0
}