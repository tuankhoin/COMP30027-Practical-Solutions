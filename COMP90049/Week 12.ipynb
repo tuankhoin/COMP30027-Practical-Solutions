{
  "nbformat": 4,
  "nbformat_minor": 0,
  "metadata": {
    "colab": {
      "provenance": [],
      "authorship_tag": "ABX9TyM7MPIl0XRR3vC1EJOekUau",
      "include_colab_link": true
    },
    "kernelspec": {
      "name": "python3",
      "display_name": "Python 3"
    },
    "language_info": {
      "name": "python"
    }
  },
  "cells": [
    {
      "cell_type": "markdown",
      "metadata": {
        "id": "view-in-github",
        "colab_type": "text"
      },
      "source": [
        "<a href=\"https://colab.research.google.com/github/tuankhoin/COMP30027-Practical-Solutions/blob/main/COMP90049/Week%2012.ipynb\" target=\"_parent\"><img src=\"https://colab.research.google.com/assets/colab-badge.svg\" alt=\"Open In Colab\"/></a>"
      ]
    },
    {
      "cell_type": "markdown",
      "metadata": {
        "id": "43QTm-S21w17"
      },
      "source": [
        "###### The University of Melbourne, School of Computing and Information Systems\n",
        "# COMP90049 Intro to Machine Learning\n",
        "\n",
        "## Week 12 - Revision\n",
        "\n",
        "---"
      ]
    },
    {
      "cell_type": "markdown",
      "source": [
        "## Question 1\n",
        "We have dataset containing demographic and income data from United States in 1994. We want to judge the fairness of a classifier we have trained on it.\n",
        "- The data set consists of about 48,000 individuals\n",
        "- Each instance X is characterized through a range of 14 demographic attributes (gender, origin, education, race, occupation, etc.).\n",
        "- The target variable Y is the income of the person (>50K or <=50K).\n",
        "\n",
        "To give you a snapshot of the training data, we have plotted the distribution of income across different genders and races.\n",
        "\n",
        "![image.png](data:image/png;base64,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)"
      ],
      "metadata": {
        "id": "f5vmkEsfGXsW"
      }
    },
    {
      "cell_type": "markdown",
      "source": [
        "### 1a. Describe the following:\n",
        "- Historical Bias\n",
        "- Demographic disparity\n",
        "- 2 use contexts:\n",
        "  - Bank use model trained on this data for predicting credit ratings\n",
        "  - Aussie Government has data of a few Australians, and wants to predict their income\n",
        "\n",
        "#### Historical bias\n",
        "- Society changes: things may not be the same now comparing to 1994\n",
        "- Model will just learn the 1994 trend, and apply that to future data\n",
        "\n",
        "#### Demographic disparity\n",
        "- High class imbalance\n",
        "- Will generalize to the majority class\n",
        "- Rules may not be the same for the minorities\n",
        "\n",
        "#### Use cases\n",
        "Problems:\n",
        "- Model has label for income, not credit rating!\n",
        "- Cannot be sure that Australians are like US people (i.e. distribution, trend)"
      ],
      "metadata": {
        "id": "4th-2ucCK-1J"
      }
    },
    {
      "cell_type": "markdown",
      "source": [
        "### 1b. You are asked to develop an income classifier that is fair with respect to the protected attribute gender. Your boss is a big believer in logistic regression classifiers and asks you to apply this particular classifier architecture with no modification. What approach(es) could you take to still test/improve the performance of your classifier?\n",
        "\n",
        "Remember: there are 3 approaches to fairness improvement. Answer just show few possible answers, not exhaustive:\n",
        "- Change data:\n",
        "  - Downsampling/Upsampling to class imbalance.\n",
        "  - Assign weight to instances\n",
        "- Change model: Your boss says no.\n",
        "- Post-process model predictions: Customized binning for male/female\n",
        "- Extra approach: quit your job and take a good holiday"
      ],
      "metadata": {
        "id": "GMCxE4UkOJGg"
      }
    },
    {
      "cell_type": "markdown",
      "source": [
        "## Question 2\n",
        "You are given the following probability values from Q1:\n",
        "\n",
        "|P(ŷ=1\\|A=f) |P(ŷ=1\\|A=m) |P(ŷ=1\\|Y=1, A=f) |P(ŷ=1\\|Y=1, A=m) |P(Y=1\\|ŷ=1, A=f) |P(Y=1\\|ŷ=1, A=m) |P(Y=1\\|ŷ=1) |P(ŷ=1\\| Y=1)|\n",
        "|---|---|---|---|---|---|---|---|\n",
        "|0.81 |0.75| 0.80| 0.86| 0.73| 0.74| 0.74 |0.85|\n",
        "\n",
        "- What metrics are they representing?\n",
        "\n",
        "|P(ŷ=1\\|A=f) |P(ŷ=1\\|A=m) |P(ŷ=1\\|Y=1, A=f) |P(ŷ=1\\|Y=1, A=m) |P(Y=1\\|ŷ=1, A=f) |P(Y=1\\|ŷ=1, A=m) |P(Y=1\\|ŷ=1) |P(ŷ=1\\| Y=1)|\n",
        "|---|---|---|---|---|---|---|---|\n",
        "|Female's positive rate|Male's positive rate|Female Recall|Male Recall|Female precision|Male precision|Overall precision|Overall recall\n",
        "|0.81 |0.75| 0.80| 0.86| 0.73| 0.74| 0.74 |0.85|\n",
        "\n",
        "- Assess the following criteria (assuming difference >5% is considered significant):\n",
        "  - Group fairness: $P(ŷ=1|A=f) >> P(ŷ=1|A=m) \\longrightarrow NO$\n",
        "  - Equal opportunity: $Recall_m >> Recall_f \\longrightarrow NO$\n",
        "  - Predictive parity: $Precision_m \\approx Precision_f \\longrightarrow YES$"
      ],
      "metadata": {
        "id": "gI63dU9mRUEf"
      }
    },
    {
      "cell_type": "markdown",
      "source": [
        "## How your exam looks like\n",
        "\n",
        "### What to bring\n",
        "- Casio FX-82, from [Uni policy](https://eng.unimelb.edu.au/students/coursework/study-resources/calculator-policy)\n",
        "- Pen and paper\n",
        "- Tissue to wipe your tears\n",
        "\n",
        "### Exam structure\n",
        "- Short answer question: You know how to read! Don't write an essay!\n",
        "- Maths question:\n",
        "  - Check the slides how much maths you need to remember (e.g. you have to remember your Bayes probability theorems)\n",
        "  - If repetitive calculations, consider trying table\n",
        "  - Try not to write too many redundant working!\n",
        "- Design question:\n",
        "  - It will still be specific in its requirements\n",
        "  - Know to make assumptions where necessary\n",
        "  - Try not going off-topic too much!\n",
        "\n",
        "### What else?\n",
        "- Marks-Minute ratio: 1 minute/mark\n",
        "- If everyone finds the exam hard, there will be scaling\n",
        "- Make sure you know how to calculate $log_2$ **on calculator** for the entropy questions"
      ],
      "metadata": {
        "id": "-AHWB-hpec1R"
      }
    },
    {
      "cell_type": "markdown",
      "source": [
        "---\n",
        "<img src=\"https://media.tenor.com/y5Eip9ksHHoAAAAd/im-not-robot.gif\" height=300px />\n",
        "\n",
        "# That's all, for this sem!\n",
        "- You can now flex\n",
        "- You can now assert dominance to people who call these stuffs 'AI'\n",
        "- You should have enough knowledge to apply for entry-level ML roles (of course, you also have to do more project to get a good-looking CV)\n",
        "\n",
        "In case you need revision, I stored the notebook solutions here: https://github.com/tuankhoin/COMP30027-Practical-Solutions/tree/main/COMP90049 . Give it a star ⭐ to make me look cool on GitHub 👌!\n",
        "\n",
        "<img src=\"https://camo.githubusercontent.com/39dfbde6ea6e85b748d62fc65b18a8aa5c103ceac4a164c195fc83be3d0c818e/68747470733a2f2f6170692e7172636f64652d6d6f6e6b65792e636f6d2f746d702f37333235356134303135343131333930373438343337356630356136376464362e7376673f31363932373939363231383032\" height=200px />\n",
        "\n",
        "For now, get on the beers 🍺. After the exams, get on another beer 🍺! Good luck everyone! May your next journeys have more joy and less (UniMelb) pain.\n",
        "\n",
        "> 10/2023: It will be my last semester teaching. 2.5 years of teaching have been awesome! Thank you all for giving me all these precious experience! We shall cross path again next time!"
      ],
      "metadata": {
        "id": "SwkZkZ-Iecwn"
      }
    }
  ]
}